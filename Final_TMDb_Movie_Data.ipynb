{
 "cells": [
  {
   "cell_type": "markdown",
   "id": "c17e1b0d",
   "metadata": {},
   "source": [
    "# Project: TMDb Movie Dataset\n",
    "\n",
    "## Table of Contents\n",
    "<ul>\n",
    "<li><a href=\"#intro\">Introduction</a></li>\n",
    "<li><a href=\"#Properties\">General Properties about Data</a></li> \n",
    "<li><a href=\"#eda\">Exploratory Data Analysis</a></li>\n",
    "<li><a href=\"#conclusion\">Conclusion</a></li>\n",
    "<li><a href=\"#references\">References</a></li>\n",
    "</ul>"
   ]
  },
  {
   "cell_type": "markdown",
   "id": "9b240183",
   "metadata": {},
   "source": [
    "<a id='intro'></a>\n",
    "\n",
    "## Introduction\n",
    "\n",
    "This data set contains information about 10,000 movies collected from The Movie Database (TMDb), including user ratings and revenue.\n",
    "\n",
    "want to find answer to this questions:\n",
    "\n",
    "1- Which genre gets highest popularity in average?\n",
    "<br>\n",
    "2- Which genre gets highest revenue?\n",
    "<br>\n",
    "3- Which genre gets highest in average?\n",
    "<br>\n",
    "4- Who is the most director directed films?\n",
    "<br>\n",
    "5- What year did the largest number of films released? \n"
   ]
  },
  {
   "cell_type": "code",
   "execution_count": null,
   "id": "c236e5a3",
   "metadata": {},
   "outputs": [],
   "source": []
  },
  {
   "cell_type": "code",
   "execution_count": 1,
   "id": "cea2168a",
   "metadata": {
    "ExecuteTime": {
     "end_time": "2022-12-11T08:58:31.500285Z",
     "start_time": "2022-12-11T08:58:30.480415Z"
    }
   },
   "outputs": [],
   "source": [
    "import pandas as pd\n",
    "import numpy as np\n",
    "import matplotlib.pyplot as plt\n",
    "import matplotlib.pyplot as plt\n",
    "from random import randint\n",
    "import seaborn as sns\n",
    "%matplotlib inline\n",
    "sns.set(style=\"whitegrid\", color_codes=True)\n",
    "#plt.style.use('seaborn') #ggplot"
   ]
  },
  {
   "cell_type": "markdown",
   "id": "b8b78cac",
   "metadata": {},
   "source": [
    "<a id='Properties'></a>\n",
    "\n",
    "## General Properties about Data"
   ]
  },
  {
   "cell_type": "code",
   "execution_count": 2,
   "id": "c6debeee",
   "metadata": {
    "ExecuteTime": {
     "end_time": "2022-12-11T08:58:31.594899Z",
     "start_time": "2022-12-11T08:58:31.501284Z"
    }
   },
   "outputs": [],
   "source": [
    "data = pd.read_csv('tmdb-movies.csv')"
   ]
  },
  {
   "cell_type": "code",
   "execution_count": 3,
   "id": "80203e97",
   "metadata": {
    "ExecuteTime": {
     "end_time": "2022-12-11T08:58:31.610901Z",
     "start_time": "2022-12-11T08:58:31.596906Z"
    }
   },
   "outputs": [],
   "source": [
    "df = data.copy()"
   ]
  },
  {
   "cell_type": "code",
   "execution_count": 4,
   "id": "7f2037f8",
   "metadata": {
    "ExecuteTime": {
     "end_time": "2022-12-11T08:58:31.641492Z",
     "start_time": "2022-12-11T08:58:31.611901Z"
    }
   },
   "outputs": [
    {
     "data": {
      "text/html": [
       "<div>\n",
       "<style scoped>\n",
       "    .dataframe tbody tr th:only-of-type {\n",
       "        vertical-align: middle;\n",
       "    }\n",
       "\n",
       "    .dataframe tbody tr th {\n",
       "        vertical-align: top;\n",
       "    }\n",
       "\n",
       "    .dataframe thead th {\n",
       "        text-align: right;\n",
       "    }\n",
       "</style>\n",
       "<table border=\"1\" class=\"dataframe\">\n",
       "  <thead>\n",
       "    <tr style=\"text-align: right;\">\n",
       "      <th></th>\n",
       "      <th>id</th>\n",
       "      <th>imdb_id</th>\n",
       "      <th>popularity</th>\n",
       "      <th>budget</th>\n",
       "      <th>revenue</th>\n",
       "      <th>original_title</th>\n",
       "      <th>cast</th>\n",
       "      <th>homepage</th>\n",
       "      <th>director</th>\n",
       "      <th>tagline</th>\n",
       "      <th>...</th>\n",
       "      <th>overview</th>\n",
       "      <th>runtime</th>\n",
       "      <th>genres</th>\n",
       "      <th>production_companies</th>\n",
       "      <th>release_date</th>\n",
       "      <th>vote_count</th>\n",
       "      <th>vote_average</th>\n",
       "      <th>release_year</th>\n",
       "      <th>budget_adj</th>\n",
       "      <th>revenue_adj</th>\n",
       "    </tr>\n",
       "  </thead>\n",
       "  <tbody>\n",
       "    <tr>\n",
       "      <th>0</th>\n",
       "      <td>135397</td>\n",
       "      <td>tt0369610</td>\n",
       "      <td>32.985763</td>\n",
       "      <td>150000000</td>\n",
       "      <td>1513528810</td>\n",
       "      <td>Jurassic World</td>\n",
       "      <td>Chris Pratt|Bryce Dallas Howard|Irrfan Khan|Vi...</td>\n",
       "      <td>http://www.jurassicworld.com/</td>\n",
       "      <td>Colin Trevorrow</td>\n",
       "      <td>The park is open.</td>\n",
       "      <td>...</td>\n",
       "      <td>Twenty-two years after the events of Jurassic ...</td>\n",
       "      <td>124</td>\n",
       "      <td>Action|Adventure|Science Fiction|Thriller</td>\n",
       "      <td>Universal Studios|Amblin Entertainment|Legenda...</td>\n",
       "      <td>6/9/15</td>\n",
       "      <td>5562</td>\n",
       "      <td>6.5</td>\n",
       "      <td>2015</td>\n",
       "      <td>1.379999e+08</td>\n",
       "      <td>1.392446e+09</td>\n",
       "    </tr>\n",
       "    <tr>\n",
       "      <th>1</th>\n",
       "      <td>76341</td>\n",
       "      <td>tt1392190</td>\n",
       "      <td>28.419936</td>\n",
       "      <td>150000000</td>\n",
       "      <td>378436354</td>\n",
       "      <td>Mad Max: Fury Road</td>\n",
       "      <td>Tom Hardy|Charlize Theron|Hugh Keays-Byrne|Nic...</td>\n",
       "      <td>http://www.madmaxmovie.com/</td>\n",
       "      <td>George Miller</td>\n",
       "      <td>What a Lovely Day.</td>\n",
       "      <td>...</td>\n",
       "      <td>An apocalyptic story set in the furthest reach...</td>\n",
       "      <td>120</td>\n",
       "      <td>Action|Adventure|Science Fiction|Thriller</td>\n",
       "      <td>Village Roadshow Pictures|Kennedy Miller Produ...</td>\n",
       "      <td>5/13/15</td>\n",
       "      <td>6185</td>\n",
       "      <td>7.1</td>\n",
       "      <td>2015</td>\n",
       "      <td>1.379999e+08</td>\n",
       "      <td>3.481613e+08</td>\n",
       "    </tr>\n",
       "    <tr>\n",
       "      <th>2</th>\n",
       "      <td>262500</td>\n",
       "      <td>tt2908446</td>\n",
       "      <td>13.112507</td>\n",
       "      <td>110000000</td>\n",
       "      <td>295238201</td>\n",
       "      <td>Insurgent</td>\n",
       "      <td>Shailene Woodley|Theo James|Kate Winslet|Ansel...</td>\n",
       "      <td>http://www.thedivergentseries.movie/#insurgent</td>\n",
       "      <td>Robert Schwentke</td>\n",
       "      <td>One Choice Can Destroy You</td>\n",
       "      <td>...</td>\n",
       "      <td>Beatrice Prior must confront her inner demons ...</td>\n",
       "      <td>119</td>\n",
       "      <td>Adventure|Science Fiction|Thriller</td>\n",
       "      <td>Summit Entertainment|Mandeville Films|Red Wago...</td>\n",
       "      <td>3/18/15</td>\n",
       "      <td>2480</td>\n",
       "      <td>6.3</td>\n",
       "      <td>2015</td>\n",
       "      <td>1.012000e+08</td>\n",
       "      <td>2.716190e+08</td>\n",
       "    </tr>\n",
       "    <tr>\n",
       "      <th>3</th>\n",
       "      <td>140607</td>\n",
       "      <td>tt2488496</td>\n",
       "      <td>11.173104</td>\n",
       "      <td>200000000</td>\n",
       "      <td>2068178225</td>\n",
       "      <td>Star Wars: The Force Awakens</td>\n",
       "      <td>Harrison Ford|Mark Hamill|Carrie Fisher|Adam D...</td>\n",
       "      <td>http://www.starwars.com/films/star-wars-episod...</td>\n",
       "      <td>J.J. Abrams</td>\n",
       "      <td>Every generation has a story.</td>\n",
       "      <td>...</td>\n",
       "      <td>Thirty years after defeating the Galactic Empi...</td>\n",
       "      <td>136</td>\n",
       "      <td>Action|Adventure|Science Fiction|Fantasy</td>\n",
       "      <td>Lucasfilm|Truenorth Productions|Bad Robot</td>\n",
       "      <td>12/15/15</td>\n",
       "      <td>5292</td>\n",
       "      <td>7.5</td>\n",
       "      <td>2015</td>\n",
       "      <td>1.839999e+08</td>\n",
       "      <td>1.902723e+09</td>\n",
       "    </tr>\n",
       "    <tr>\n",
       "      <th>4</th>\n",
       "      <td>168259</td>\n",
       "      <td>tt2820852</td>\n",
       "      <td>9.335014</td>\n",
       "      <td>190000000</td>\n",
       "      <td>1506249360</td>\n",
       "      <td>Furious 7</td>\n",
       "      <td>Vin Diesel|Paul Walker|Jason Statham|Michelle ...</td>\n",
       "      <td>http://www.furious7.com/</td>\n",
       "      <td>James Wan</td>\n",
       "      <td>Vengeance Hits Home</td>\n",
       "      <td>...</td>\n",
       "      <td>Deckard Shaw seeks revenge against Dominic Tor...</td>\n",
       "      <td>137</td>\n",
       "      <td>Action|Crime|Thriller</td>\n",
       "      <td>Universal Pictures|Original Film|Media Rights ...</td>\n",
       "      <td>4/1/15</td>\n",
       "      <td>2947</td>\n",
       "      <td>7.3</td>\n",
       "      <td>2015</td>\n",
       "      <td>1.747999e+08</td>\n",
       "      <td>1.385749e+09</td>\n",
       "    </tr>\n",
       "    <tr>\n",
       "      <th>...</th>\n",
       "      <td>...</td>\n",
       "      <td>...</td>\n",
       "      <td>...</td>\n",
       "      <td>...</td>\n",
       "      <td>...</td>\n",
       "      <td>...</td>\n",
       "      <td>...</td>\n",
       "      <td>...</td>\n",
       "      <td>...</td>\n",
       "      <td>...</td>\n",
       "      <td>...</td>\n",
       "      <td>...</td>\n",
       "      <td>...</td>\n",
       "      <td>...</td>\n",
       "      <td>...</td>\n",
       "      <td>...</td>\n",
       "      <td>...</td>\n",
       "      <td>...</td>\n",
       "      <td>...</td>\n",
       "      <td>...</td>\n",
       "      <td>...</td>\n",
       "    </tr>\n",
       "    <tr>\n",
       "      <th>10861</th>\n",
       "      <td>21</td>\n",
       "      <td>tt0060371</td>\n",
       "      <td>0.080598</td>\n",
       "      <td>0</td>\n",
       "      <td>0</td>\n",
       "      <td>The Endless Summer</td>\n",
       "      <td>Michael Hynson|Robert August|Lord 'Tally Ho' B...</td>\n",
       "      <td>NaN</td>\n",
       "      <td>Bruce Brown</td>\n",
       "      <td>NaN</td>\n",
       "      <td>...</td>\n",
       "      <td>The Endless Summer, by Bruce Brown, is one of ...</td>\n",
       "      <td>95</td>\n",
       "      <td>Documentary</td>\n",
       "      <td>Bruce Brown Films</td>\n",
       "      <td>6/15/66</td>\n",
       "      <td>11</td>\n",
       "      <td>7.4</td>\n",
       "      <td>1966</td>\n",
       "      <td>0.000000e+00</td>\n",
       "      <td>0.000000e+00</td>\n",
       "    </tr>\n",
       "    <tr>\n",
       "      <th>10862</th>\n",
       "      <td>20379</td>\n",
       "      <td>tt0060472</td>\n",
       "      <td>0.065543</td>\n",
       "      <td>0</td>\n",
       "      <td>0</td>\n",
       "      <td>Grand Prix</td>\n",
       "      <td>James Garner|Eva Marie Saint|Yves Montand|Tosh...</td>\n",
       "      <td>NaN</td>\n",
       "      <td>John Frankenheimer</td>\n",
       "      <td>Cinerama sweeps YOU into a drama of speed and ...</td>\n",
       "      <td>...</td>\n",
       "      <td>Grand Prix driver Pete Aron is fired by his te...</td>\n",
       "      <td>176</td>\n",
       "      <td>Action|Adventure|Drama</td>\n",
       "      <td>Cherokee Productions|Joel Productions|Douglas ...</td>\n",
       "      <td>12/21/66</td>\n",
       "      <td>20</td>\n",
       "      <td>5.7</td>\n",
       "      <td>1966</td>\n",
       "      <td>0.000000e+00</td>\n",
       "      <td>0.000000e+00</td>\n",
       "    </tr>\n",
       "    <tr>\n",
       "      <th>10863</th>\n",
       "      <td>39768</td>\n",
       "      <td>tt0060161</td>\n",
       "      <td>0.065141</td>\n",
       "      <td>0</td>\n",
       "      <td>0</td>\n",
       "      <td>Beregis Avtomobilya</td>\n",
       "      <td>Innokentiy Smoktunovskiy|Oleg Efremov|Georgi Z...</td>\n",
       "      <td>NaN</td>\n",
       "      <td>Eldar Ryazanov</td>\n",
       "      <td>NaN</td>\n",
       "      <td>...</td>\n",
       "      <td>An insurance agent who moonlights as a carthie...</td>\n",
       "      <td>94</td>\n",
       "      <td>Mystery|Comedy</td>\n",
       "      <td>Mosfilm</td>\n",
       "      <td>1/1/66</td>\n",
       "      <td>11</td>\n",
       "      <td>6.5</td>\n",
       "      <td>1966</td>\n",
       "      <td>0.000000e+00</td>\n",
       "      <td>0.000000e+00</td>\n",
       "    </tr>\n",
       "    <tr>\n",
       "      <th>10864</th>\n",
       "      <td>21449</td>\n",
       "      <td>tt0061177</td>\n",
       "      <td>0.064317</td>\n",
       "      <td>0</td>\n",
       "      <td>0</td>\n",
       "      <td>What's Up, Tiger Lily?</td>\n",
       "      <td>Tatsuya Mihashi|Akiko Wakabayashi|Mie Hama|Joh...</td>\n",
       "      <td>NaN</td>\n",
       "      <td>Woody Allen</td>\n",
       "      <td>WOODY ALLEN STRIKES BACK!</td>\n",
       "      <td>...</td>\n",
       "      <td>In comic Woody Allen's film debut, he took the...</td>\n",
       "      <td>80</td>\n",
       "      <td>Action|Comedy</td>\n",
       "      <td>Benedict Pictures Corp.</td>\n",
       "      <td>11/2/66</td>\n",
       "      <td>22</td>\n",
       "      <td>5.4</td>\n",
       "      <td>1966</td>\n",
       "      <td>0.000000e+00</td>\n",
       "      <td>0.000000e+00</td>\n",
       "    </tr>\n",
       "    <tr>\n",
       "      <th>10865</th>\n",
       "      <td>22293</td>\n",
       "      <td>tt0060666</td>\n",
       "      <td>0.035919</td>\n",
       "      <td>19000</td>\n",
       "      <td>0</td>\n",
       "      <td>Manos: The Hands of Fate</td>\n",
       "      <td>Harold P. Warren|Tom Neyman|John Reynolds|Dian...</td>\n",
       "      <td>NaN</td>\n",
       "      <td>Harold P. Warren</td>\n",
       "      <td>It's Shocking! It's Beyond Your Imagination!</td>\n",
       "      <td>...</td>\n",
       "      <td>A family gets lost on the road and stumbles up...</td>\n",
       "      <td>74</td>\n",
       "      <td>Horror</td>\n",
       "      <td>Norm-Iris</td>\n",
       "      <td>11/15/66</td>\n",
       "      <td>15</td>\n",
       "      <td>1.5</td>\n",
       "      <td>1966</td>\n",
       "      <td>1.276423e+05</td>\n",
       "      <td>0.000000e+00</td>\n",
       "    </tr>\n",
       "  </tbody>\n",
       "</table>\n",
       "<p>10866 rows × 21 columns</p>\n",
       "</div>"
      ],
      "text/plain": [
       "           id    imdb_id  popularity     budget     revenue  \\\n",
       "0      135397  tt0369610   32.985763  150000000  1513528810   \n",
       "1       76341  tt1392190   28.419936  150000000   378436354   \n",
       "2      262500  tt2908446   13.112507  110000000   295238201   \n",
       "3      140607  tt2488496   11.173104  200000000  2068178225   \n",
       "4      168259  tt2820852    9.335014  190000000  1506249360   \n",
       "...       ...        ...         ...        ...         ...   \n",
       "10861      21  tt0060371    0.080598          0           0   \n",
       "10862   20379  tt0060472    0.065543          0           0   \n",
       "10863   39768  tt0060161    0.065141          0           0   \n",
       "10864   21449  tt0061177    0.064317          0           0   \n",
       "10865   22293  tt0060666    0.035919      19000           0   \n",
       "\n",
       "                     original_title  \\\n",
       "0                    Jurassic World   \n",
       "1                Mad Max: Fury Road   \n",
       "2                         Insurgent   \n",
       "3      Star Wars: The Force Awakens   \n",
       "4                         Furious 7   \n",
       "...                             ...   \n",
       "10861            The Endless Summer   \n",
       "10862                    Grand Prix   \n",
       "10863           Beregis Avtomobilya   \n",
       "10864        What's Up, Tiger Lily?   \n",
       "10865      Manos: The Hands of Fate   \n",
       "\n",
       "                                                    cast  \\\n",
       "0      Chris Pratt|Bryce Dallas Howard|Irrfan Khan|Vi...   \n",
       "1      Tom Hardy|Charlize Theron|Hugh Keays-Byrne|Nic...   \n",
       "2      Shailene Woodley|Theo James|Kate Winslet|Ansel...   \n",
       "3      Harrison Ford|Mark Hamill|Carrie Fisher|Adam D...   \n",
       "4      Vin Diesel|Paul Walker|Jason Statham|Michelle ...   \n",
       "...                                                  ...   \n",
       "10861  Michael Hynson|Robert August|Lord 'Tally Ho' B...   \n",
       "10862  James Garner|Eva Marie Saint|Yves Montand|Tosh...   \n",
       "10863  Innokentiy Smoktunovskiy|Oleg Efremov|Georgi Z...   \n",
       "10864  Tatsuya Mihashi|Akiko Wakabayashi|Mie Hama|Joh...   \n",
       "10865  Harold P. Warren|Tom Neyman|John Reynolds|Dian...   \n",
       "\n",
       "                                                homepage            director  \\\n",
       "0                          http://www.jurassicworld.com/     Colin Trevorrow   \n",
       "1                            http://www.madmaxmovie.com/       George Miller   \n",
       "2         http://www.thedivergentseries.movie/#insurgent    Robert Schwentke   \n",
       "3      http://www.starwars.com/films/star-wars-episod...         J.J. Abrams   \n",
       "4                               http://www.furious7.com/           James Wan   \n",
       "...                                                  ...                 ...   \n",
       "10861                                                NaN         Bruce Brown   \n",
       "10862                                                NaN  John Frankenheimer   \n",
       "10863                                                NaN      Eldar Ryazanov   \n",
       "10864                                                NaN         Woody Allen   \n",
       "10865                                                NaN    Harold P. Warren   \n",
       "\n",
       "                                                 tagline  ...  \\\n",
       "0                                      The park is open.  ...   \n",
       "1                                     What a Lovely Day.  ...   \n",
       "2                             One Choice Can Destroy You  ...   \n",
       "3                          Every generation has a story.  ...   \n",
       "4                                    Vengeance Hits Home  ...   \n",
       "...                                                  ...  ...   \n",
       "10861                                                NaN  ...   \n",
       "10862  Cinerama sweeps YOU into a drama of speed and ...  ...   \n",
       "10863                                                NaN  ...   \n",
       "10864                          WOODY ALLEN STRIKES BACK!  ...   \n",
       "10865       It's Shocking! It's Beyond Your Imagination!  ...   \n",
       "\n",
       "                                                overview runtime  \\\n",
       "0      Twenty-two years after the events of Jurassic ...     124   \n",
       "1      An apocalyptic story set in the furthest reach...     120   \n",
       "2      Beatrice Prior must confront her inner demons ...     119   \n",
       "3      Thirty years after defeating the Galactic Empi...     136   \n",
       "4      Deckard Shaw seeks revenge against Dominic Tor...     137   \n",
       "...                                                  ...     ...   \n",
       "10861  The Endless Summer, by Bruce Brown, is one of ...      95   \n",
       "10862  Grand Prix driver Pete Aron is fired by his te...     176   \n",
       "10863  An insurance agent who moonlights as a carthie...      94   \n",
       "10864  In comic Woody Allen's film debut, he took the...      80   \n",
       "10865  A family gets lost on the road and stumbles up...      74   \n",
       "\n",
       "                                          genres  \\\n",
       "0      Action|Adventure|Science Fiction|Thriller   \n",
       "1      Action|Adventure|Science Fiction|Thriller   \n",
       "2             Adventure|Science Fiction|Thriller   \n",
       "3       Action|Adventure|Science Fiction|Fantasy   \n",
       "4                          Action|Crime|Thriller   \n",
       "...                                          ...   \n",
       "10861                                Documentary   \n",
       "10862                     Action|Adventure|Drama   \n",
       "10863                             Mystery|Comedy   \n",
       "10864                              Action|Comedy   \n",
       "10865                                     Horror   \n",
       "\n",
       "                                    production_companies release_date  \\\n",
       "0      Universal Studios|Amblin Entertainment|Legenda...       6/9/15   \n",
       "1      Village Roadshow Pictures|Kennedy Miller Produ...      5/13/15   \n",
       "2      Summit Entertainment|Mandeville Films|Red Wago...      3/18/15   \n",
       "3              Lucasfilm|Truenorth Productions|Bad Robot     12/15/15   \n",
       "4      Universal Pictures|Original Film|Media Rights ...       4/1/15   \n",
       "...                                                  ...          ...   \n",
       "10861                                  Bruce Brown Films      6/15/66   \n",
       "10862  Cherokee Productions|Joel Productions|Douglas ...     12/21/66   \n",
       "10863                                            Mosfilm       1/1/66   \n",
       "10864                            Benedict Pictures Corp.      11/2/66   \n",
       "10865                                          Norm-Iris     11/15/66   \n",
       "\n",
       "      vote_count  vote_average  release_year    budget_adj   revenue_adj  \n",
       "0           5562           6.5          2015  1.379999e+08  1.392446e+09  \n",
       "1           6185           7.1          2015  1.379999e+08  3.481613e+08  \n",
       "2           2480           6.3          2015  1.012000e+08  2.716190e+08  \n",
       "3           5292           7.5          2015  1.839999e+08  1.902723e+09  \n",
       "4           2947           7.3          2015  1.747999e+08  1.385749e+09  \n",
       "...          ...           ...           ...           ...           ...  \n",
       "10861         11           7.4          1966  0.000000e+00  0.000000e+00  \n",
       "10862         20           5.7          1966  0.000000e+00  0.000000e+00  \n",
       "10863         11           6.5          1966  0.000000e+00  0.000000e+00  \n",
       "10864         22           5.4          1966  0.000000e+00  0.000000e+00  \n",
       "10865         15           1.5          1966  1.276423e+05  0.000000e+00  \n",
       "\n",
       "[10866 rows x 21 columns]"
      ]
     },
     "execution_count": 4,
     "metadata": {},
     "output_type": "execute_result"
    }
   ],
   "source": [
    "df"
   ]
  },
  {
   "cell_type": "markdown",
   "id": "5c9eddb6",
   "metadata": {
    "ExecuteTime": {
     "end_time": "2022-12-10T13:04:12.938155Z",
     "start_time": "2022-12-10T13:04:12.931637Z"
    }
   },
   "source": [
    "### More information about a DataFrame and Columns Data Type"
   ]
  },
  {
   "cell_type": "code",
   "execution_count": 5,
   "id": "f7aab172",
   "metadata": {
    "ExecuteTime": {
     "end_time": "2022-12-11T08:58:31.672189Z",
     "start_time": "2022-12-11T08:58:31.642492Z"
    }
   },
   "outputs": [
    {
     "name": "stdout",
     "output_type": "stream",
     "text": [
      "<class 'pandas.core.frame.DataFrame'>\n",
      "RangeIndex: 10866 entries, 0 to 10865\n",
      "Data columns (total 21 columns):\n",
      " #   Column                Non-Null Count  Dtype  \n",
      "---  ------                --------------  -----  \n",
      " 0   id                    10866 non-null  int64  \n",
      " 1   imdb_id               10856 non-null  object \n",
      " 2   popularity            10866 non-null  float64\n",
      " 3   budget                10866 non-null  int64  \n",
      " 4   revenue               10866 non-null  int64  \n",
      " 5   original_title        10866 non-null  object \n",
      " 6   cast                  10790 non-null  object \n",
      " 7   homepage              2936 non-null   object \n",
      " 8   director              10822 non-null  object \n",
      " 9   tagline               8042 non-null   object \n",
      " 10  keywords              9373 non-null   object \n",
      " 11  overview              10862 non-null  object \n",
      " 12  runtime               10866 non-null  int64  \n",
      " 13  genres                10843 non-null  object \n",
      " 14  production_companies  9836 non-null   object \n",
      " 15  release_date          10866 non-null  object \n",
      " 16  vote_count            10866 non-null  int64  \n",
      " 17  vote_average          10866 non-null  float64\n",
      " 18  release_year          10866 non-null  int64  \n",
      " 19  budget_adj            10866 non-null  float64\n",
      " 20  revenue_adj           10866 non-null  float64\n",
      "dtypes: float64(4), int64(6), object(11)\n",
      "memory usage: 1.7+ MB\n"
     ]
    }
   ],
   "source": [
    "df.info()"
   ]
  },
  {
   "cell_type": "code",
   "execution_count": 6,
   "id": "d79cb16b",
   "metadata": {
    "ExecuteTime": {
     "end_time": "2022-12-11T08:58:31.688189Z",
     "start_time": "2022-12-11T08:58:31.673187Z"
    }
   },
   "outputs": [
    {
     "data": {
      "text/plain": [
       "RangeIndex(start=0, stop=10866, step=1)"
      ]
     },
     "execution_count": 6,
     "metadata": {},
     "output_type": "execute_result"
    }
   ],
   "source": [
    "# check the index\n",
    "df.index"
   ]
  },
  {
   "cell_type": "markdown",
   "id": "781deac6",
   "metadata": {},
   "source": [
    "### Checking if columns have null values or not"
   ]
  },
  {
   "cell_type": "code",
   "execution_count": 7,
   "id": "2d06a776",
   "metadata": {
    "ExecuteTime": {
     "end_time": "2022-12-11T08:58:31.720200Z",
     "start_time": "2022-12-11T08:58:31.690189Z"
    }
   },
   "outputs": [
    {
     "data": {
      "text/plain": [
       "id                         0\n",
       "imdb_id                   10\n",
       "popularity                 0\n",
       "budget                     0\n",
       "revenue                    0\n",
       "original_title             0\n",
       "cast                      76\n",
       "homepage                7930\n",
       "director                  44\n",
       "tagline                 2824\n",
       "keywords                1493\n",
       "overview                   4\n",
       "runtime                    0\n",
       "genres                    23\n",
       "production_companies    1030\n",
       "release_date               0\n",
       "vote_count                 0\n",
       "vote_average               0\n",
       "release_year               0\n",
       "budget_adj                 0\n",
       "revenue_adj                0\n",
       "dtype: int64"
      ]
     },
     "execution_count": 7,
     "metadata": {},
     "output_type": "execute_result"
    }
   ],
   "source": [
    "df.isnull().sum()"
   ]
  },
  {
   "cell_type": "code",
   "execution_count": 8,
   "id": "8af9db2b",
   "metadata": {
    "ExecuteTime": {
     "end_time": "2022-12-11T08:58:31.751192Z",
     "start_time": "2022-12-11T08:58:31.722190Z"
    }
   },
   "outputs": [
    {
     "data": {
      "text/plain": [
       "id                      10865\n",
       "imdb_id                 10855\n",
       "popularity              10814\n",
       "budget                    557\n",
       "revenue                  4702\n",
       "original_title          10571\n",
       "cast                    10719\n",
       "homepage                 2896\n",
       "director                 5067\n",
       "tagline                  7997\n",
       "keywords                 8804\n",
       "overview                10847\n",
       "runtime                   247\n",
       "genres                   2039\n",
       "production_companies     7445\n",
       "release_date             5909\n",
       "vote_count               1289\n",
       "vote_average               72\n",
       "release_year               56\n",
       "budget_adj               2614\n",
       "revenue_adj              4840\n",
       "dtype: int64"
      ]
     },
     "execution_count": 8,
     "metadata": {},
     "output_type": "execute_result"
    }
   ],
   "source": [
    "df.nunique()   # Find number of unique values in all columns"
   ]
  },
  {
   "cell_type": "markdown",
   "id": "92843a6b",
   "metadata": {
    "ExecuteTime": {
     "end_time": "2022-12-10T13:30:47.855921Z",
     "start_time": "2022-12-10T13:30:47.839712Z"
    }
   },
   "source": [
    "### There are columns have null values, So  --------->  I will drop it "
   ]
  },
  {
   "cell_type": "code",
   "execution_count": 9,
   "id": "c2c74db7",
   "metadata": {
    "ExecuteTime": {
     "end_time": "2022-12-11T08:58:31.782705Z",
     "start_time": "2022-12-11T08:58:31.752702Z"
    }
   },
   "outputs": [],
   "source": [
    "df.dropna(inplace=True)"
   ]
  },
  {
   "cell_type": "markdown",
   "id": "6b31619a",
   "metadata": {},
   "source": [
    "### check agin to see null values"
   ]
  },
  {
   "cell_type": "code",
   "execution_count": 10,
   "id": "36d14240",
   "metadata": {
    "ExecuteTime": {
     "end_time": "2022-12-11T08:58:31.798702Z",
     "start_time": "2022-12-11T08:58:31.784703Z"
    }
   },
   "outputs": [
    {
     "data": {
      "text/plain": [
       "id                      0\n",
       "imdb_id                 0\n",
       "popularity              0\n",
       "budget                  0\n",
       "revenue                 0\n",
       "original_title          0\n",
       "cast                    0\n",
       "homepage                0\n",
       "director                0\n",
       "tagline                 0\n",
       "keywords                0\n",
       "overview                0\n",
       "runtime                 0\n",
       "genres                  0\n",
       "production_companies    0\n",
       "release_date            0\n",
       "vote_count              0\n",
       "vote_average            0\n",
       "release_year            0\n",
       "budget_adj              0\n",
       "revenue_adj             0\n",
       "dtype: int64"
      ]
     },
     "execution_count": 10,
     "metadata": {},
     "output_type": "execute_result"
    }
   ],
   "source": [
    "df.isnull().sum()"
   ]
  },
  {
   "cell_type": "markdown",
   "id": "b65949b7",
   "metadata": {},
   "source": [
    "### Now I don't have null values"
   ]
  },
  {
   "cell_type": "code",
   "execution_count": 11,
   "id": "22252d89",
   "metadata": {
    "ExecuteTime": {
     "end_time": "2022-12-11T08:58:31.814704Z",
     "start_time": "2022-12-11T08:58:31.800706Z"
    }
   },
   "outputs": [
    {
     "data": {
      "text/html": [
       "<div>\n",
       "<style scoped>\n",
       "    .dataframe tbody tr th:only-of-type {\n",
       "        vertical-align: middle;\n",
       "    }\n",
       "\n",
       "    .dataframe tbody tr th {\n",
       "        vertical-align: top;\n",
       "    }\n",
       "\n",
       "    .dataframe thead th {\n",
       "        text-align: right;\n",
       "    }\n",
       "</style>\n",
       "<table border=\"1\" class=\"dataframe\">\n",
       "  <thead>\n",
       "    <tr style=\"text-align: right;\">\n",
       "      <th></th>\n",
       "      <th>id</th>\n",
       "      <th>imdb_id</th>\n",
       "      <th>popularity</th>\n",
       "      <th>budget</th>\n",
       "      <th>revenue</th>\n",
       "      <th>original_title</th>\n",
       "      <th>cast</th>\n",
       "      <th>homepage</th>\n",
       "      <th>director</th>\n",
       "      <th>tagline</th>\n",
       "      <th>...</th>\n",
       "      <th>overview</th>\n",
       "      <th>runtime</th>\n",
       "      <th>genres</th>\n",
       "      <th>production_companies</th>\n",
       "      <th>release_date</th>\n",
       "      <th>vote_count</th>\n",
       "      <th>vote_average</th>\n",
       "      <th>release_year</th>\n",
       "      <th>budget_adj</th>\n",
       "      <th>revenue_adj</th>\n",
       "    </tr>\n",
       "  </thead>\n",
       "  <tbody>\n",
       "    <tr>\n",
       "      <th>10657</th>\n",
       "      <td>5722</td>\n",
       "      <td>tt0065466</td>\n",
       "      <td>0.374514</td>\n",
       "      <td>0</td>\n",
       "      <td>0</td>\n",
       "      <td>Beyond the Valley of the Dolls</td>\n",
       "      <td>Dolly Read|Cynthia Myers|Marcia McBroom|John L...</td>\n",
       "      <td>http://www.beyondthevalleyofthedolls.com/home....</td>\n",
       "      <td>Russ Meyer</td>\n",
       "      <td>This Is Not A Sequel. There Has Never Been Any...</td>\n",
       "      <td>...</td>\n",
       "      <td>A hip and happenin' all girl rock group head t...</td>\n",
       "      <td>109</td>\n",
       "      <td>Comedy|Drama|Thriller</td>\n",
       "      <td>Twentieth Century Fox Film Corporation</td>\n",
       "      <td>7/17/70</td>\n",
       "      <td>19</td>\n",
       "      <td>6.2</td>\n",
       "      <td>1970</td>\n",
       "      <td>0.000000e+00</td>\n",
       "      <td>0.000000e+00</td>\n",
       "    </tr>\n",
       "    <tr>\n",
       "      <th>10689</th>\n",
       "      <td>660</td>\n",
       "      <td>tt0059800</td>\n",
       "      <td>1.910465</td>\n",
       "      <td>11000000</td>\n",
       "      <td>141195658</td>\n",
       "      <td>Thunderball</td>\n",
       "      <td>Sean Connery|Claudine Auger|Adolfo Celi|Lucian...</td>\n",
       "      <td>http://www.mgm.com/view/movie/2009/Thunderball/</td>\n",
       "      <td>Terence Young</td>\n",
       "      <td>Look up!  Look down!  Look out!</td>\n",
       "      <td>...</td>\n",
       "      <td>A criminal organization has obtained two nucle...</td>\n",
       "      <td>130</td>\n",
       "      <td>Adventure|Action|Thriller</td>\n",
       "      <td>Eon Productions|Metro-Goldwyn-Mayer (MGM)</td>\n",
       "      <td>12/16/65</td>\n",
       "      <td>331</td>\n",
       "      <td>6.3</td>\n",
       "      <td>1965</td>\n",
       "      <td>7.612620e+07</td>\n",
       "      <td>9.771535e+08</td>\n",
       "    </tr>\n",
       "    <tr>\n",
       "      <th>10724</th>\n",
       "      <td>668</td>\n",
       "      <td>tt0064757</td>\n",
       "      <td>1.778746</td>\n",
       "      <td>7000000</td>\n",
       "      <td>81974493</td>\n",
       "      <td>On Her Majesty's Secret Service</td>\n",
       "      <td>George Lazenby|Diana Rigg|Telly Savalas|Gabrie...</td>\n",
       "      <td>http://www.mgm.com/view/movie/1411/On-Her-Maje...</td>\n",
       "      <td>Peter R. Hunt</td>\n",
       "      <td>Far up! Far out! Far more! James Bond 007 is b...</td>\n",
       "      <td>...</td>\n",
       "      <td>James Bond tracks archnemesis Ernst Blofeld to...</td>\n",
       "      <td>142</td>\n",
       "      <td>Adventure|Action|Thriller</td>\n",
       "      <td>Eon Productions|Metro-Goldwyn-Mayer (MGM)|Danjaq</td>\n",
       "      <td>12/12/69</td>\n",
       "      <td>258</td>\n",
       "      <td>6.4</td>\n",
       "      <td>1969</td>\n",
       "      <td>4.160985e+07</td>\n",
       "      <td>4.872780e+08</td>\n",
       "    </tr>\n",
       "    <tr>\n",
       "      <th>10759</th>\n",
       "      <td>948</td>\n",
       "      <td>tt0077651</td>\n",
       "      <td>1.198849</td>\n",
       "      <td>300000</td>\n",
       "      <td>70000000</td>\n",
       "      <td>Halloween</td>\n",
       "      <td>Donald Pleasence|Jamie Lee Curtis|P.J. Soles|N...</td>\n",
       "      <td>http://www.theofficialjohncarpenter.com/hallow...</td>\n",
       "      <td>John Carpenter</td>\n",
       "      <td>The Night HE Came Home!</td>\n",
       "      <td>...</td>\n",
       "      <td>A psychotic murderer, institutionalized since ...</td>\n",
       "      <td>91</td>\n",
       "      <td>Horror|Thriller</td>\n",
       "      <td>Compass International Pictures|Falcon Internat...</td>\n",
       "      <td>10/25/78</td>\n",
       "      <td>522</td>\n",
       "      <td>7.3</td>\n",
       "      <td>1978</td>\n",
       "      <td>1.002810e+06</td>\n",
       "      <td>2.339890e+08</td>\n",
       "    </tr>\n",
       "    <tr>\n",
       "      <th>10760</th>\n",
       "      <td>8469</td>\n",
       "      <td>tt0077975</td>\n",
       "      <td>1.157930</td>\n",
       "      <td>2700000</td>\n",
       "      <td>141000000</td>\n",
       "      <td>Animal House</td>\n",
       "      <td>John Belushi|Tim Matheson|John Vernon|Verna Bl...</td>\n",
       "      <td>http://www.animalhouse.com/</td>\n",
       "      <td>John Landis</td>\n",
       "      <td>It was the Deltas against the rules... the rul...</td>\n",
       "      <td>...</td>\n",
       "      <td>At a 1962 College, Dean Vernon Wormer is deter...</td>\n",
       "      <td>109</td>\n",
       "      <td>Comedy</td>\n",
       "      <td>Universal Pictures|Oregon Film Factory|Stage I...</td>\n",
       "      <td>7/27/78</td>\n",
       "      <td>230</td>\n",
       "      <td>6.7</td>\n",
       "      <td>1978</td>\n",
       "      <td>9.025292e+06</td>\n",
       "      <td>4.713208e+08</td>\n",
       "    </tr>\n",
       "    <tr>\n",
       "      <th>10817</th>\n",
       "      <td>13963</td>\n",
       "      <td>tt0077838</td>\n",
       "      <td>0.064029</td>\n",
       "      <td>0</td>\n",
       "      <td>321952</td>\n",
       "      <td>The Last Waltz</td>\n",
       "      <td>Robbie Robertson|Rick Danko|Levon Helm|Richard...</td>\n",
       "      <td>http://www.mgm.com/#/our-titles/1092/The-Last-...</td>\n",
       "      <td>Martin Scorsese</td>\n",
       "      <td>It Started as a Concert. It Became a Celebration.</td>\n",
       "      <td>...</td>\n",
       "      <td>Martin Scorsese's rockumentary intertwines foo...</td>\n",
       "      <td>117</td>\n",
       "      <td>Documentary|Music</td>\n",
       "      <td>FM Productions|Last Waltz Inc.</td>\n",
       "      <td>5/1/78</td>\n",
       "      <td>33</td>\n",
       "      <td>8.0</td>\n",
       "      <td>1978</td>\n",
       "      <td>0.000000e+00</td>\n",
       "      <td>1.076189e+06</td>\n",
       "    </tr>\n",
       "    <tr>\n",
       "      <th>10819</th>\n",
       "      <td>16214</td>\n",
       "      <td>tt0077696</td>\n",
       "      <td>0.044675</td>\n",
       "      <td>0</td>\n",
       "      <td>78000000</td>\n",
       "      <td>Hooper</td>\n",
       "      <td>Burt Reynolds|Robert Klein|Adam West|Jan-Micha...</td>\n",
       "      <td>http://en.wikipedia.org/wiki/Hooper_(film)</td>\n",
       "      <td>Hal Needham</td>\n",
       "      <td>The greatest stuntman alive!</td>\n",
       "      <td>...</td>\n",
       "      <td>Burt Reynolds plays a legendary stunt man know...</td>\n",
       "      <td>107</td>\n",
       "      <td>Action|Comedy</td>\n",
       "      <td>Warner Bros.</td>\n",
       "      <td>7/28/78</td>\n",
       "      <td>13</td>\n",
       "      <td>6.0</td>\n",
       "      <td>1978</td>\n",
       "      <td>0.000000e+00</td>\n",
       "      <td>2.607307e+08</td>\n",
       "    </tr>\n",
       "  </tbody>\n",
       "</table>\n",
       "<p>7 rows × 21 columns</p>\n",
       "</div>"
      ],
      "text/plain": [
       "          id    imdb_id  popularity    budget    revenue  \\\n",
       "10657   5722  tt0065466    0.374514         0          0   \n",
       "10689    660  tt0059800    1.910465  11000000  141195658   \n",
       "10724    668  tt0064757    1.778746   7000000   81974493   \n",
       "10759    948  tt0077651    1.198849    300000   70000000   \n",
       "10760   8469  tt0077975    1.157930   2700000  141000000   \n",
       "10817  13963  tt0077838    0.064029         0     321952   \n",
       "10819  16214  tt0077696    0.044675         0   78000000   \n",
       "\n",
       "                        original_title  \\\n",
       "10657   Beyond the Valley of the Dolls   \n",
       "10689                      Thunderball   \n",
       "10724  On Her Majesty's Secret Service   \n",
       "10759                        Halloween   \n",
       "10760                     Animal House   \n",
       "10817                   The Last Waltz   \n",
       "10819                           Hooper   \n",
       "\n",
       "                                                    cast  \\\n",
       "10657  Dolly Read|Cynthia Myers|Marcia McBroom|John L...   \n",
       "10689  Sean Connery|Claudine Auger|Adolfo Celi|Lucian...   \n",
       "10724  George Lazenby|Diana Rigg|Telly Savalas|Gabrie...   \n",
       "10759  Donald Pleasence|Jamie Lee Curtis|P.J. Soles|N...   \n",
       "10760  John Belushi|Tim Matheson|John Vernon|Verna Bl...   \n",
       "10817  Robbie Robertson|Rick Danko|Levon Helm|Richard...   \n",
       "10819  Burt Reynolds|Robert Klein|Adam West|Jan-Micha...   \n",
       "\n",
       "                                                homepage         director  \\\n",
       "10657  http://www.beyondthevalleyofthedolls.com/home....       Russ Meyer   \n",
       "10689    http://www.mgm.com/view/movie/2009/Thunderball/    Terence Young   \n",
       "10724  http://www.mgm.com/view/movie/1411/On-Her-Maje...    Peter R. Hunt   \n",
       "10759  http://www.theofficialjohncarpenter.com/hallow...   John Carpenter   \n",
       "10760                        http://www.animalhouse.com/      John Landis   \n",
       "10817  http://www.mgm.com/#/our-titles/1092/The-Last-...  Martin Scorsese   \n",
       "10819         http://en.wikipedia.org/wiki/Hooper_(film)      Hal Needham   \n",
       "\n",
       "                                                 tagline  ...  \\\n",
       "10657  This Is Not A Sequel. There Has Never Been Any...  ...   \n",
       "10689                    Look up!  Look down!  Look out!  ...   \n",
       "10724  Far up! Far out! Far more! James Bond 007 is b...  ...   \n",
       "10759                            The Night HE Came Home!  ...   \n",
       "10760  It was the Deltas against the rules... the rul...  ...   \n",
       "10817  It Started as a Concert. It Became a Celebration.  ...   \n",
       "10819                       The greatest stuntman alive!  ...   \n",
       "\n",
       "                                                overview runtime  \\\n",
       "10657  A hip and happenin' all girl rock group head t...     109   \n",
       "10689  A criminal organization has obtained two nucle...     130   \n",
       "10724  James Bond tracks archnemesis Ernst Blofeld to...     142   \n",
       "10759  A psychotic murderer, institutionalized since ...      91   \n",
       "10760  At a 1962 College, Dean Vernon Wormer is deter...     109   \n",
       "10817  Martin Scorsese's rockumentary intertwines foo...     117   \n",
       "10819  Burt Reynolds plays a legendary stunt man know...     107   \n",
       "\n",
       "                          genres  \\\n",
       "10657      Comedy|Drama|Thriller   \n",
       "10689  Adventure|Action|Thriller   \n",
       "10724  Adventure|Action|Thriller   \n",
       "10759            Horror|Thriller   \n",
       "10760                     Comedy   \n",
       "10817          Documentary|Music   \n",
       "10819              Action|Comedy   \n",
       "\n",
       "                                    production_companies release_date  \\\n",
       "10657             Twentieth Century Fox Film Corporation      7/17/70   \n",
       "10689          Eon Productions|Metro-Goldwyn-Mayer (MGM)     12/16/65   \n",
       "10724   Eon Productions|Metro-Goldwyn-Mayer (MGM)|Danjaq     12/12/69   \n",
       "10759  Compass International Pictures|Falcon Internat...     10/25/78   \n",
       "10760  Universal Pictures|Oregon Film Factory|Stage I...      7/27/78   \n",
       "10817                     FM Productions|Last Waltz Inc.       5/1/78   \n",
       "10819                                       Warner Bros.      7/28/78   \n",
       "\n",
       "      vote_count  vote_average  release_year    budget_adj   revenue_adj  \n",
       "10657         19           6.2          1970  0.000000e+00  0.000000e+00  \n",
       "10689        331           6.3          1965  7.612620e+07  9.771535e+08  \n",
       "10724        258           6.4          1969  4.160985e+07  4.872780e+08  \n",
       "10759        522           7.3          1978  1.002810e+06  2.339890e+08  \n",
       "10760        230           6.7          1978  9.025292e+06  4.713208e+08  \n",
       "10817         33           8.0          1978  0.000000e+00  1.076189e+06  \n",
       "10819         13           6.0          1978  0.000000e+00  2.607307e+08  \n",
       "\n",
       "[7 rows x 21 columns]"
      ]
     },
     "execution_count": 11,
     "metadata": {},
     "output_type": "execute_result"
    }
   ],
   "source": [
    "df.tail(7)"
   ]
  },
  {
   "cell_type": "markdown",
   "id": "565ddcf6",
   "metadata": {},
   "source": [
    "### There are rows with columns (revenue) and  (budget) equal zero which not make true, So ---------> I drop there"
   ]
  },
  {
   "cell_type": "code",
   "execution_count": 12,
   "id": "c7eb0bf7",
   "metadata": {
    "ExecuteTime": {
     "end_time": "2022-12-11T08:58:31.830702Z",
     "start_time": "2022-12-11T08:58:31.817703Z"
    }
   },
   "outputs": [],
   "source": [
    "df = df[df['revenue'] != 0]\n",
    "df = df[df['budget'] != 0]\n",
    "#df.dropna(inplace=True)"
   ]
  },
  {
   "cell_type": "code",
   "execution_count": 13,
   "id": "a5af7fae",
   "metadata": {
    "ExecuteTime": {
     "end_time": "2022-12-11T08:58:31.861311Z",
     "start_time": "2022-12-11T08:58:31.831702Z"
    }
   },
   "outputs": [
    {
     "data": {
      "text/html": [
       "<div>\n",
       "<style scoped>\n",
       "    .dataframe tbody tr th:only-of-type {\n",
       "        vertical-align: middle;\n",
       "    }\n",
       "\n",
       "    .dataframe tbody tr th {\n",
       "        vertical-align: top;\n",
       "    }\n",
       "\n",
       "    .dataframe thead th {\n",
       "        text-align: right;\n",
       "    }\n",
       "</style>\n",
       "<table border=\"1\" class=\"dataframe\">\n",
       "  <thead>\n",
       "    <tr style=\"text-align: right;\">\n",
       "      <th></th>\n",
       "      <th>id</th>\n",
       "      <th>imdb_id</th>\n",
       "      <th>popularity</th>\n",
       "      <th>budget</th>\n",
       "      <th>revenue</th>\n",
       "      <th>original_title</th>\n",
       "      <th>cast</th>\n",
       "      <th>homepage</th>\n",
       "      <th>director</th>\n",
       "      <th>tagline</th>\n",
       "      <th>...</th>\n",
       "      <th>overview</th>\n",
       "      <th>runtime</th>\n",
       "      <th>genres</th>\n",
       "      <th>production_companies</th>\n",
       "      <th>release_date</th>\n",
       "      <th>vote_count</th>\n",
       "      <th>vote_average</th>\n",
       "      <th>release_year</th>\n",
       "      <th>budget_adj</th>\n",
       "      <th>revenue_adj</th>\n",
       "    </tr>\n",
       "  </thead>\n",
       "  <tbody>\n",
       "    <tr>\n",
       "      <th>10489</th>\n",
       "      <td>6978</td>\n",
       "      <td>tt0090728</td>\n",
       "      <td>0.960984</td>\n",
       "      <td>25000000</td>\n",
       "      <td>11000000</td>\n",
       "      <td>Big Trouble in Little China</td>\n",
       "      <td>Kurt Russell|Kim Cattrall|Dennis Dun|James Hon...</td>\n",
       "      <td>http://www.theofficialjohncarpenter.com/big-tr...</td>\n",
       "      <td>John Carpenter</td>\n",
       "      <td>Adventure doesn't come any bigger!</td>\n",
       "      <td>...</td>\n",
       "      <td>When trucker Jack Burton agreed to take his fr...</td>\n",
       "      <td>99</td>\n",
       "      <td>Adventure|Fantasy|Action|Comedy</td>\n",
       "      <td>Twentieth Century Fox Film Corporation|TAFT En...</td>\n",
       "      <td>5/30/86</td>\n",
       "      <td>347</td>\n",
       "      <td>6.7</td>\n",
       "      <td>1986</td>\n",
       "      <td>4.973516e+07</td>\n",
       "      <td>2.188347e+07</td>\n",
       "    </tr>\n",
       "    <tr>\n",
       "      <th>10594</th>\n",
       "      <td>9552</td>\n",
       "      <td>tt0070047</td>\n",
       "      <td>2.010733</td>\n",
       "      <td>8000000</td>\n",
       "      <td>441306145</td>\n",
       "      <td>The Exorcist</td>\n",
       "      <td>Linda Blair|Max von Sydow|Ellen Burstyn|Jason ...</td>\n",
       "      <td>http://theexorcist.warnerbros.com/</td>\n",
       "      <td>William Friedkin</td>\n",
       "      <td>Something almost beyond comprehension is happe...</td>\n",
       "      <td>...</td>\n",
       "      <td>12-year-old Regan MacNeil begins to adapt an e...</td>\n",
       "      <td>122</td>\n",
       "      <td>Drama|Horror|Thriller</td>\n",
       "      <td>Warner Bros.|Hoya Productions</td>\n",
       "      <td>12/26/73</td>\n",
       "      <td>1113</td>\n",
       "      <td>7.2</td>\n",
       "      <td>1973</td>\n",
       "      <td>3.928928e+07</td>\n",
       "      <td>2.167325e+09</td>\n",
       "    </tr>\n",
       "    <tr>\n",
       "      <th>10595</th>\n",
       "      <td>253</td>\n",
       "      <td>tt0070328</td>\n",
       "      <td>1.549139</td>\n",
       "      <td>7000000</td>\n",
       "      <td>161777836</td>\n",
       "      <td>Live and Let Die</td>\n",
       "      <td>Roger Moore|Yaphet Kotto|Jane Seymour|Clifton ...</td>\n",
       "      <td>http://www.mgm.com/view/movie/1130/Live-and-Le...</td>\n",
       "      <td>Guy Hamilton</td>\n",
       "      <td>Roger Moore is James Bond.</td>\n",
       "      <td>...</td>\n",
       "      <td>James Bond must investigate a mysterious murde...</td>\n",
       "      <td>121</td>\n",
       "      <td>Adventure|Action|Thriller</td>\n",
       "      <td>Eon Productions|Metro-Goldwyn-Mayer (MGM)</td>\n",
       "      <td>7/5/73</td>\n",
       "      <td>293</td>\n",
       "      <td>6.1</td>\n",
       "      <td>1973</td>\n",
       "      <td>3.437812e+07</td>\n",
       "      <td>7.945168e+08</td>\n",
       "    </tr>\n",
       "    <tr>\n",
       "      <th>10689</th>\n",
       "      <td>660</td>\n",
       "      <td>tt0059800</td>\n",
       "      <td>1.910465</td>\n",
       "      <td>11000000</td>\n",
       "      <td>141195658</td>\n",
       "      <td>Thunderball</td>\n",
       "      <td>Sean Connery|Claudine Auger|Adolfo Celi|Lucian...</td>\n",
       "      <td>http://www.mgm.com/view/movie/2009/Thunderball/</td>\n",
       "      <td>Terence Young</td>\n",
       "      <td>Look up!  Look down!  Look out!</td>\n",
       "      <td>...</td>\n",
       "      <td>A criminal organization has obtained two nucle...</td>\n",
       "      <td>130</td>\n",
       "      <td>Adventure|Action|Thriller</td>\n",
       "      <td>Eon Productions|Metro-Goldwyn-Mayer (MGM)</td>\n",
       "      <td>12/16/65</td>\n",
       "      <td>331</td>\n",
       "      <td>6.3</td>\n",
       "      <td>1965</td>\n",
       "      <td>7.612620e+07</td>\n",
       "      <td>9.771535e+08</td>\n",
       "    </tr>\n",
       "    <tr>\n",
       "      <th>10724</th>\n",
       "      <td>668</td>\n",
       "      <td>tt0064757</td>\n",
       "      <td>1.778746</td>\n",
       "      <td>7000000</td>\n",
       "      <td>81974493</td>\n",
       "      <td>On Her Majesty's Secret Service</td>\n",
       "      <td>George Lazenby|Diana Rigg|Telly Savalas|Gabrie...</td>\n",
       "      <td>http://www.mgm.com/view/movie/1411/On-Her-Maje...</td>\n",
       "      <td>Peter R. Hunt</td>\n",
       "      <td>Far up! Far out! Far more! James Bond 007 is b...</td>\n",
       "      <td>...</td>\n",
       "      <td>James Bond tracks archnemesis Ernst Blofeld to...</td>\n",
       "      <td>142</td>\n",
       "      <td>Adventure|Action|Thriller</td>\n",
       "      <td>Eon Productions|Metro-Goldwyn-Mayer (MGM)|Danjaq</td>\n",
       "      <td>12/12/69</td>\n",
       "      <td>258</td>\n",
       "      <td>6.4</td>\n",
       "      <td>1969</td>\n",
       "      <td>4.160985e+07</td>\n",
       "      <td>4.872780e+08</td>\n",
       "    </tr>\n",
       "    <tr>\n",
       "      <th>10759</th>\n",
       "      <td>948</td>\n",
       "      <td>tt0077651</td>\n",
       "      <td>1.198849</td>\n",
       "      <td>300000</td>\n",
       "      <td>70000000</td>\n",
       "      <td>Halloween</td>\n",
       "      <td>Donald Pleasence|Jamie Lee Curtis|P.J. Soles|N...</td>\n",
       "      <td>http://www.theofficialjohncarpenter.com/hallow...</td>\n",
       "      <td>John Carpenter</td>\n",
       "      <td>The Night HE Came Home!</td>\n",
       "      <td>...</td>\n",
       "      <td>A psychotic murderer, institutionalized since ...</td>\n",
       "      <td>91</td>\n",
       "      <td>Horror|Thriller</td>\n",
       "      <td>Compass International Pictures|Falcon Internat...</td>\n",
       "      <td>10/25/78</td>\n",
       "      <td>522</td>\n",
       "      <td>7.3</td>\n",
       "      <td>1978</td>\n",
       "      <td>1.002810e+06</td>\n",
       "      <td>2.339890e+08</td>\n",
       "    </tr>\n",
       "    <tr>\n",
       "      <th>10760</th>\n",
       "      <td>8469</td>\n",
       "      <td>tt0077975</td>\n",
       "      <td>1.157930</td>\n",
       "      <td>2700000</td>\n",
       "      <td>141000000</td>\n",
       "      <td>Animal House</td>\n",
       "      <td>John Belushi|Tim Matheson|John Vernon|Verna Bl...</td>\n",
       "      <td>http://www.animalhouse.com/</td>\n",
       "      <td>John Landis</td>\n",
       "      <td>It was the Deltas against the rules... the rul...</td>\n",
       "      <td>...</td>\n",
       "      <td>At a 1962 College, Dean Vernon Wormer is deter...</td>\n",
       "      <td>109</td>\n",
       "      <td>Comedy</td>\n",
       "      <td>Universal Pictures|Oregon Film Factory|Stage I...</td>\n",
       "      <td>7/27/78</td>\n",
       "      <td>230</td>\n",
       "      <td>6.7</td>\n",
       "      <td>1978</td>\n",
       "      <td>9.025292e+06</td>\n",
       "      <td>4.713208e+08</td>\n",
       "    </tr>\n",
       "  </tbody>\n",
       "</table>\n",
       "<p>7 rows × 21 columns</p>\n",
       "</div>"
      ],
      "text/plain": [
       "         id    imdb_id  popularity    budget    revenue  \\\n",
       "10489  6978  tt0090728    0.960984  25000000   11000000   \n",
       "10594  9552  tt0070047    2.010733   8000000  441306145   \n",
       "10595   253  tt0070328    1.549139   7000000  161777836   \n",
       "10689   660  tt0059800    1.910465  11000000  141195658   \n",
       "10724   668  tt0064757    1.778746   7000000   81974493   \n",
       "10759   948  tt0077651    1.198849    300000   70000000   \n",
       "10760  8469  tt0077975    1.157930   2700000  141000000   \n",
       "\n",
       "                        original_title  \\\n",
       "10489      Big Trouble in Little China   \n",
       "10594                     The Exorcist   \n",
       "10595                 Live and Let Die   \n",
       "10689                      Thunderball   \n",
       "10724  On Her Majesty's Secret Service   \n",
       "10759                        Halloween   \n",
       "10760                     Animal House   \n",
       "\n",
       "                                                    cast  \\\n",
       "10489  Kurt Russell|Kim Cattrall|Dennis Dun|James Hon...   \n",
       "10594  Linda Blair|Max von Sydow|Ellen Burstyn|Jason ...   \n",
       "10595  Roger Moore|Yaphet Kotto|Jane Seymour|Clifton ...   \n",
       "10689  Sean Connery|Claudine Auger|Adolfo Celi|Lucian...   \n",
       "10724  George Lazenby|Diana Rigg|Telly Savalas|Gabrie...   \n",
       "10759  Donald Pleasence|Jamie Lee Curtis|P.J. Soles|N...   \n",
       "10760  John Belushi|Tim Matheson|John Vernon|Verna Bl...   \n",
       "\n",
       "                                                homepage          director  \\\n",
       "10489  http://www.theofficialjohncarpenter.com/big-tr...    John Carpenter   \n",
       "10594                 http://theexorcist.warnerbros.com/  William Friedkin   \n",
       "10595  http://www.mgm.com/view/movie/1130/Live-and-Le...      Guy Hamilton   \n",
       "10689    http://www.mgm.com/view/movie/2009/Thunderball/     Terence Young   \n",
       "10724  http://www.mgm.com/view/movie/1411/On-Her-Maje...     Peter R. Hunt   \n",
       "10759  http://www.theofficialjohncarpenter.com/hallow...    John Carpenter   \n",
       "10760                        http://www.animalhouse.com/       John Landis   \n",
       "\n",
       "                                                 tagline  ...  \\\n",
       "10489                 Adventure doesn't come any bigger!  ...   \n",
       "10594  Something almost beyond comprehension is happe...  ...   \n",
       "10595                         Roger Moore is James Bond.  ...   \n",
       "10689                    Look up!  Look down!  Look out!  ...   \n",
       "10724  Far up! Far out! Far more! James Bond 007 is b...  ...   \n",
       "10759                            The Night HE Came Home!  ...   \n",
       "10760  It was the Deltas against the rules... the rul...  ...   \n",
       "\n",
       "                                                overview runtime  \\\n",
       "10489  When trucker Jack Burton agreed to take his fr...      99   \n",
       "10594  12-year-old Regan MacNeil begins to adapt an e...     122   \n",
       "10595  James Bond must investigate a mysterious murde...     121   \n",
       "10689  A criminal organization has obtained two nucle...     130   \n",
       "10724  James Bond tracks archnemesis Ernst Blofeld to...     142   \n",
       "10759  A psychotic murderer, institutionalized since ...      91   \n",
       "10760  At a 1962 College, Dean Vernon Wormer is deter...     109   \n",
       "\n",
       "                                genres  \\\n",
       "10489  Adventure|Fantasy|Action|Comedy   \n",
       "10594            Drama|Horror|Thriller   \n",
       "10595        Adventure|Action|Thriller   \n",
       "10689        Adventure|Action|Thriller   \n",
       "10724        Adventure|Action|Thriller   \n",
       "10759                  Horror|Thriller   \n",
       "10760                           Comedy   \n",
       "\n",
       "                                    production_companies release_date  \\\n",
       "10489  Twentieth Century Fox Film Corporation|TAFT En...      5/30/86   \n",
       "10594                      Warner Bros.|Hoya Productions     12/26/73   \n",
       "10595          Eon Productions|Metro-Goldwyn-Mayer (MGM)       7/5/73   \n",
       "10689          Eon Productions|Metro-Goldwyn-Mayer (MGM)     12/16/65   \n",
       "10724   Eon Productions|Metro-Goldwyn-Mayer (MGM)|Danjaq     12/12/69   \n",
       "10759  Compass International Pictures|Falcon Internat...     10/25/78   \n",
       "10760  Universal Pictures|Oregon Film Factory|Stage I...      7/27/78   \n",
       "\n",
       "      vote_count  vote_average  release_year    budget_adj   revenue_adj  \n",
       "10489        347           6.7          1986  4.973516e+07  2.188347e+07  \n",
       "10594       1113           7.2          1973  3.928928e+07  2.167325e+09  \n",
       "10595        293           6.1          1973  3.437812e+07  7.945168e+08  \n",
       "10689        331           6.3          1965  7.612620e+07  9.771535e+08  \n",
       "10724        258           6.4          1969  4.160985e+07  4.872780e+08  \n",
       "10759        522           7.3          1978  1.002810e+06  2.339890e+08  \n",
       "10760        230           6.7          1978  9.025292e+06  4.713208e+08  \n",
       "\n",
       "[7 rows x 21 columns]"
      ]
     },
     "execution_count": 13,
     "metadata": {},
     "output_type": "execute_result"
    }
   ],
   "source": [
    "df.tail(7)"
   ]
  },
  {
   "cell_type": "markdown",
   "id": "8603cba9",
   "metadata": {},
   "source": [
    "### Checking if columns (revenue) and (budget) equal zero are removed or not"
   ]
  },
  {
   "cell_type": "code",
   "execution_count": 14,
   "id": "d78690c6",
   "metadata": {
    "ExecuteTime": {
     "end_time": "2022-12-11T08:58:31.877303Z",
     "start_time": "2022-12-11T08:58:31.863303Z"
    }
   },
   "outputs": [
    {
     "data": {
      "text/html": [
       "<div>\n",
       "<style scoped>\n",
       "    .dataframe tbody tr th:only-of-type {\n",
       "        vertical-align: middle;\n",
       "    }\n",
       "\n",
       "    .dataframe tbody tr th {\n",
       "        vertical-align: top;\n",
       "    }\n",
       "\n",
       "    .dataframe thead th {\n",
       "        text-align: right;\n",
       "    }\n",
       "</style>\n",
       "<table border=\"1\" class=\"dataframe\">\n",
       "  <thead>\n",
       "    <tr style=\"text-align: right;\">\n",
       "      <th></th>\n",
       "      <th>id</th>\n",
       "      <th>imdb_id</th>\n",
       "      <th>popularity</th>\n",
       "      <th>budget</th>\n",
       "      <th>revenue</th>\n",
       "      <th>original_title</th>\n",
       "      <th>cast</th>\n",
       "      <th>homepage</th>\n",
       "      <th>director</th>\n",
       "      <th>tagline</th>\n",
       "      <th>...</th>\n",
       "      <th>overview</th>\n",
       "      <th>runtime</th>\n",
       "      <th>genres</th>\n",
       "      <th>production_companies</th>\n",
       "      <th>release_date</th>\n",
       "      <th>vote_count</th>\n",
       "      <th>vote_average</th>\n",
       "      <th>release_year</th>\n",
       "      <th>budget_adj</th>\n",
       "      <th>revenue_adj</th>\n",
       "    </tr>\n",
       "  </thead>\n",
       "  <tbody>\n",
       "  </tbody>\n",
       "</table>\n",
       "<p>0 rows × 21 columns</p>\n",
       "</div>"
      ],
      "text/plain": [
       "Empty DataFrame\n",
       "Columns: [id, imdb_id, popularity, budget, revenue, original_title, cast, homepage, director, tagline, keywords, overview, runtime, genres, production_companies, release_date, vote_count, vote_average, release_year, budget_adj, revenue_adj]\n",
       "Index: []\n",
       "\n",
       "[0 rows x 21 columns]"
      ]
     },
     "execution_count": 14,
     "metadata": {},
     "output_type": "execute_result"
    }
   ],
   "source": [
    "df[df['revenue'] == 0]"
   ]
  },
  {
   "cell_type": "code",
   "execution_count": 15,
   "id": "9b4a91d4",
   "metadata": {
    "ExecuteTime": {
     "end_time": "2022-12-11T08:58:31.893314Z",
     "start_time": "2022-12-11T08:58:31.879302Z"
    }
   },
   "outputs": [
    {
     "data": {
      "text/html": [
       "<div>\n",
       "<style scoped>\n",
       "    .dataframe tbody tr th:only-of-type {\n",
       "        vertical-align: middle;\n",
       "    }\n",
       "\n",
       "    .dataframe tbody tr th {\n",
       "        vertical-align: top;\n",
       "    }\n",
       "\n",
       "    .dataframe thead th {\n",
       "        text-align: right;\n",
       "    }\n",
       "</style>\n",
       "<table border=\"1\" class=\"dataframe\">\n",
       "  <thead>\n",
       "    <tr style=\"text-align: right;\">\n",
       "      <th></th>\n",
       "      <th>id</th>\n",
       "      <th>imdb_id</th>\n",
       "      <th>popularity</th>\n",
       "      <th>budget</th>\n",
       "      <th>revenue</th>\n",
       "      <th>original_title</th>\n",
       "      <th>cast</th>\n",
       "      <th>homepage</th>\n",
       "      <th>director</th>\n",
       "      <th>tagline</th>\n",
       "      <th>...</th>\n",
       "      <th>overview</th>\n",
       "      <th>runtime</th>\n",
       "      <th>genres</th>\n",
       "      <th>production_companies</th>\n",
       "      <th>release_date</th>\n",
       "      <th>vote_count</th>\n",
       "      <th>vote_average</th>\n",
       "      <th>release_year</th>\n",
       "      <th>budget_adj</th>\n",
       "      <th>revenue_adj</th>\n",
       "    </tr>\n",
       "  </thead>\n",
       "  <tbody>\n",
       "  </tbody>\n",
       "</table>\n",
       "<p>0 rows × 21 columns</p>\n",
       "</div>"
      ],
      "text/plain": [
       "Empty DataFrame\n",
       "Columns: [id, imdb_id, popularity, budget, revenue, original_title, cast, homepage, director, tagline, keywords, overview, runtime, genres, production_companies, release_date, vote_count, vote_average, release_year, budget_adj, revenue_adj]\n",
       "Index: []\n",
       "\n",
       "[0 rows x 21 columns]"
      ]
     },
     "execution_count": 15,
     "metadata": {},
     "output_type": "execute_result"
    }
   ],
   "source": [
    "df[df['budget'] == 0]"
   ]
  },
  {
   "cell_type": "code",
   "execution_count": 16,
   "id": "96fd1f8c",
   "metadata": {
    "ExecuteTime": {
     "end_time": "2022-12-11T08:58:31.909314Z",
     "start_time": "2022-12-11T08:58:31.894303Z"
    }
   },
   "outputs": [
    {
     "data": {
      "text/plain": [
       "(1287, 21)"
      ]
     },
     "execution_count": 16,
     "metadata": {},
     "output_type": "execute_result"
    }
   ],
   "source": [
    "df.shape"
   ]
  },
  {
   "cell_type": "code",
   "execution_count": 17,
   "id": "df0328cd",
   "metadata": {
    "ExecuteTime": {
     "end_time": "2022-12-11T08:58:31.924303Z",
     "start_time": "2022-12-11T08:58:31.911314Z"
    }
   },
   "outputs": [
    {
     "data": {
      "text/plain": [
       "0        Action|Adventure|Science Fiction|Thriller\n",
       "1        Action|Adventure|Science Fiction|Thriller\n",
       "2               Adventure|Science Fiction|Thriller\n",
       "3         Action|Adventure|Science Fiction|Fantasy\n",
       "4                            Action|Crime|Thriller\n",
       "                           ...                    \n",
       "10595                    Adventure|Action|Thriller\n",
       "10689                    Adventure|Action|Thriller\n",
       "10724                    Adventure|Action|Thriller\n",
       "10759                              Horror|Thriller\n",
       "10760                                       Comedy\n",
       "Name: genres, Length: 1287, dtype: object"
      ]
     },
     "execution_count": 17,
     "metadata": {},
     "output_type": "execute_result"
    }
   ],
   "source": [
    "df['genres']"
   ]
  },
  {
   "cell_type": "markdown",
   "id": "aa4aff93",
   "metadata": {},
   "source": [
    "### Found that each movie have different genre types with \"|\" between them which make analysis more diffecult\n",
    "### So ---------> I will edit genres values which countains \"|\" and separate each one in specific row\n",
    "### I get the code below from this website: \n",
    "https://riptutorial.com/pandas/example/25462/split--reshape--csv-strings-in-columns-into-multiple-rows--having-one-element-per-row"
   ]
  },
  {
   "cell_type": "code",
   "execution_count": 18,
   "id": "1f5bcb29",
   "metadata": {
    "ExecuteTime": {
     "end_time": "2022-12-11T08:58:31.970629Z",
     "start_time": "2022-12-11T08:58:31.926304Z"
    }
   },
   "outputs": [],
   "source": [
    "# Save new dataset in variable (New_df)\n",
    "\n",
    "New_df = \\\n",
    "(df.set_index(df.columns.drop('genres',1).tolist())\n",
    "   .genres.str.split('|', expand=True)\n",
    "   .stack()\n",
    "   .reset_index()\n",
    "   .rename(columns={0:'genres'})\n",
    "   .loc[:, df.columns]\n",
    ")\n"
   ]
  },
  {
   "cell_type": "markdown",
   "id": "4b99c614",
   "metadata": {
    "ExecuteTime": {
     "end_time": "2022-12-10T14:09:27.642184Z",
     "start_time": "2022-12-10T14:09:27.624434Z"
    }
   },
   "source": [
    "### Check again after spriting genres values"
   ]
  },
  {
   "cell_type": "code",
   "execution_count": 19,
   "id": "c30113aa",
   "metadata": {
    "ExecuteTime": {
     "end_time": "2022-12-11T08:58:31.985421Z",
     "start_time": "2022-12-11T08:58:31.972422Z"
    }
   },
   "outputs": [
    {
     "data": {
      "text/plain": [
       "0                Action\n",
       "1             Adventure\n",
       "2       Science Fiction\n",
       "3              Thriller\n",
       "4                Action\n",
       "             ...       \n",
       "3449             Action\n",
       "3450           Thriller\n",
       "3451             Horror\n",
       "3452           Thriller\n",
       "3453             Comedy\n",
       "Name: genres, Length: 3454, dtype: object"
      ]
     },
     "execution_count": 19,
     "metadata": {},
     "output_type": "execute_result"
    }
   ],
   "source": [
    "New_df['genres']"
   ]
  },
  {
   "cell_type": "code",
   "execution_count": 20,
   "id": "efc9126a",
   "metadata": {
    "ExecuteTime": {
     "end_time": "2022-12-11T08:58:32.001422Z",
     "start_time": "2022-12-11T08:58:31.986421Z"
    }
   },
   "outputs": [
    {
     "data": {
      "text/html": [
       "<div>\n",
       "<style scoped>\n",
       "    .dataframe tbody tr th:only-of-type {\n",
       "        vertical-align: middle;\n",
       "    }\n",
       "\n",
       "    .dataframe tbody tr th {\n",
       "        vertical-align: top;\n",
       "    }\n",
       "\n",
       "    .dataframe thead th {\n",
       "        text-align: right;\n",
       "    }\n",
       "</style>\n",
       "<table border=\"1\" class=\"dataframe\">\n",
       "  <thead>\n",
       "    <tr style=\"text-align: right;\">\n",
       "      <th></th>\n",
       "      <th>id</th>\n",
       "      <th>imdb_id</th>\n",
       "      <th>popularity</th>\n",
       "      <th>budget</th>\n",
       "      <th>revenue</th>\n",
       "      <th>original_title</th>\n",
       "      <th>cast</th>\n",
       "      <th>homepage</th>\n",
       "      <th>director</th>\n",
       "      <th>tagline</th>\n",
       "      <th>...</th>\n",
       "      <th>overview</th>\n",
       "      <th>runtime</th>\n",
       "      <th>genres</th>\n",
       "      <th>production_companies</th>\n",
       "      <th>release_date</th>\n",
       "      <th>vote_count</th>\n",
       "      <th>vote_average</th>\n",
       "      <th>release_year</th>\n",
       "      <th>budget_adj</th>\n",
       "      <th>revenue_adj</th>\n",
       "    </tr>\n",
       "  </thead>\n",
       "  <tbody>\n",
       "    <tr>\n",
       "      <th>0</th>\n",
       "      <td>135397</td>\n",
       "      <td>tt0369610</td>\n",
       "      <td>32.985763</td>\n",
       "      <td>150000000</td>\n",
       "      <td>1513528810</td>\n",
       "      <td>Jurassic World</td>\n",
       "      <td>Chris Pratt|Bryce Dallas Howard|Irrfan Khan|Vi...</td>\n",
       "      <td>http://www.jurassicworld.com/</td>\n",
       "      <td>Colin Trevorrow</td>\n",
       "      <td>The park is open.</td>\n",
       "      <td>...</td>\n",
       "      <td>Twenty-two years after the events of Jurassic ...</td>\n",
       "      <td>124</td>\n",
       "      <td>Action</td>\n",
       "      <td>Universal Studios|Amblin Entertainment|Legenda...</td>\n",
       "      <td>6/9/15</td>\n",
       "      <td>5562</td>\n",
       "      <td>6.5</td>\n",
       "      <td>2015</td>\n",
       "      <td>1.379999e+08</td>\n",
       "      <td>1.392446e+09</td>\n",
       "    </tr>\n",
       "    <tr>\n",
       "      <th>1</th>\n",
       "      <td>135397</td>\n",
       "      <td>tt0369610</td>\n",
       "      <td>32.985763</td>\n",
       "      <td>150000000</td>\n",
       "      <td>1513528810</td>\n",
       "      <td>Jurassic World</td>\n",
       "      <td>Chris Pratt|Bryce Dallas Howard|Irrfan Khan|Vi...</td>\n",
       "      <td>http://www.jurassicworld.com/</td>\n",
       "      <td>Colin Trevorrow</td>\n",
       "      <td>The park is open.</td>\n",
       "      <td>...</td>\n",
       "      <td>Twenty-two years after the events of Jurassic ...</td>\n",
       "      <td>124</td>\n",
       "      <td>Adventure</td>\n",
       "      <td>Universal Studios|Amblin Entertainment|Legenda...</td>\n",
       "      <td>6/9/15</td>\n",
       "      <td>5562</td>\n",
       "      <td>6.5</td>\n",
       "      <td>2015</td>\n",
       "      <td>1.379999e+08</td>\n",
       "      <td>1.392446e+09</td>\n",
       "    </tr>\n",
       "    <tr>\n",
       "      <th>2</th>\n",
       "      <td>135397</td>\n",
       "      <td>tt0369610</td>\n",
       "      <td>32.985763</td>\n",
       "      <td>150000000</td>\n",
       "      <td>1513528810</td>\n",
       "      <td>Jurassic World</td>\n",
       "      <td>Chris Pratt|Bryce Dallas Howard|Irrfan Khan|Vi...</td>\n",
       "      <td>http://www.jurassicworld.com/</td>\n",
       "      <td>Colin Trevorrow</td>\n",
       "      <td>The park is open.</td>\n",
       "      <td>...</td>\n",
       "      <td>Twenty-two years after the events of Jurassic ...</td>\n",
       "      <td>124</td>\n",
       "      <td>Science Fiction</td>\n",
       "      <td>Universal Studios|Amblin Entertainment|Legenda...</td>\n",
       "      <td>6/9/15</td>\n",
       "      <td>5562</td>\n",
       "      <td>6.5</td>\n",
       "      <td>2015</td>\n",
       "      <td>1.379999e+08</td>\n",
       "      <td>1.392446e+09</td>\n",
       "    </tr>\n",
       "    <tr>\n",
       "      <th>3</th>\n",
       "      <td>135397</td>\n",
       "      <td>tt0369610</td>\n",
       "      <td>32.985763</td>\n",
       "      <td>150000000</td>\n",
       "      <td>1513528810</td>\n",
       "      <td>Jurassic World</td>\n",
       "      <td>Chris Pratt|Bryce Dallas Howard|Irrfan Khan|Vi...</td>\n",
       "      <td>http://www.jurassicworld.com/</td>\n",
       "      <td>Colin Trevorrow</td>\n",
       "      <td>The park is open.</td>\n",
       "      <td>...</td>\n",
       "      <td>Twenty-two years after the events of Jurassic ...</td>\n",
       "      <td>124</td>\n",
       "      <td>Thriller</td>\n",
       "      <td>Universal Studios|Amblin Entertainment|Legenda...</td>\n",
       "      <td>6/9/15</td>\n",
       "      <td>5562</td>\n",
       "      <td>6.5</td>\n",
       "      <td>2015</td>\n",
       "      <td>1.379999e+08</td>\n",
       "      <td>1.392446e+09</td>\n",
       "    </tr>\n",
       "    <tr>\n",
       "      <th>4</th>\n",
       "      <td>76341</td>\n",
       "      <td>tt1392190</td>\n",
       "      <td>28.419936</td>\n",
       "      <td>150000000</td>\n",
       "      <td>378436354</td>\n",
       "      <td>Mad Max: Fury Road</td>\n",
       "      <td>Tom Hardy|Charlize Theron|Hugh Keays-Byrne|Nic...</td>\n",
       "      <td>http://www.madmaxmovie.com/</td>\n",
       "      <td>George Miller</td>\n",
       "      <td>What a Lovely Day.</td>\n",
       "      <td>...</td>\n",
       "      <td>An apocalyptic story set in the furthest reach...</td>\n",
       "      <td>120</td>\n",
       "      <td>Action</td>\n",
       "      <td>Village Roadshow Pictures|Kennedy Miller Produ...</td>\n",
       "      <td>5/13/15</td>\n",
       "      <td>6185</td>\n",
       "      <td>7.1</td>\n",
       "      <td>2015</td>\n",
       "      <td>1.379999e+08</td>\n",
       "      <td>3.481613e+08</td>\n",
       "    </tr>\n",
       "  </tbody>\n",
       "</table>\n",
       "<p>5 rows × 21 columns</p>\n",
       "</div>"
      ],
      "text/plain": [
       "       id    imdb_id  popularity     budget     revenue      original_title  \\\n",
       "0  135397  tt0369610   32.985763  150000000  1513528810      Jurassic World   \n",
       "1  135397  tt0369610   32.985763  150000000  1513528810      Jurassic World   \n",
       "2  135397  tt0369610   32.985763  150000000  1513528810      Jurassic World   \n",
       "3  135397  tt0369610   32.985763  150000000  1513528810      Jurassic World   \n",
       "4   76341  tt1392190   28.419936  150000000   378436354  Mad Max: Fury Road   \n",
       "\n",
       "                                                cast  \\\n",
       "0  Chris Pratt|Bryce Dallas Howard|Irrfan Khan|Vi...   \n",
       "1  Chris Pratt|Bryce Dallas Howard|Irrfan Khan|Vi...   \n",
       "2  Chris Pratt|Bryce Dallas Howard|Irrfan Khan|Vi...   \n",
       "3  Chris Pratt|Bryce Dallas Howard|Irrfan Khan|Vi...   \n",
       "4  Tom Hardy|Charlize Theron|Hugh Keays-Byrne|Nic...   \n",
       "\n",
       "                        homepage         director             tagline  ...  \\\n",
       "0  http://www.jurassicworld.com/  Colin Trevorrow   The park is open.  ...   \n",
       "1  http://www.jurassicworld.com/  Colin Trevorrow   The park is open.  ...   \n",
       "2  http://www.jurassicworld.com/  Colin Trevorrow   The park is open.  ...   \n",
       "3  http://www.jurassicworld.com/  Colin Trevorrow   The park is open.  ...   \n",
       "4    http://www.madmaxmovie.com/    George Miller  What a Lovely Day.  ...   \n",
       "\n",
       "                                            overview runtime           genres  \\\n",
       "0  Twenty-two years after the events of Jurassic ...     124           Action   \n",
       "1  Twenty-two years after the events of Jurassic ...     124        Adventure   \n",
       "2  Twenty-two years after the events of Jurassic ...     124  Science Fiction   \n",
       "3  Twenty-two years after the events of Jurassic ...     124         Thriller   \n",
       "4  An apocalyptic story set in the furthest reach...     120           Action   \n",
       "\n",
       "                                production_companies release_date vote_count  \\\n",
       "0  Universal Studios|Amblin Entertainment|Legenda...       6/9/15       5562   \n",
       "1  Universal Studios|Amblin Entertainment|Legenda...       6/9/15       5562   \n",
       "2  Universal Studios|Amblin Entertainment|Legenda...       6/9/15       5562   \n",
       "3  Universal Studios|Amblin Entertainment|Legenda...       6/9/15       5562   \n",
       "4  Village Roadshow Pictures|Kennedy Miller Produ...      5/13/15       6185   \n",
       "\n",
       "   vote_average  release_year    budget_adj   revenue_adj  \n",
       "0           6.5          2015  1.379999e+08  1.392446e+09  \n",
       "1           6.5          2015  1.379999e+08  1.392446e+09  \n",
       "2           6.5          2015  1.379999e+08  1.392446e+09  \n",
       "3           6.5          2015  1.379999e+08  1.392446e+09  \n",
       "4           7.1          2015  1.379999e+08  3.481613e+08  \n",
       "\n",
       "[5 rows x 21 columns]"
      ]
     },
     "execution_count": 20,
     "metadata": {},
     "output_type": "execute_result"
    }
   ],
   "source": [
    "New_df.head()"
   ]
  },
  {
   "cell_type": "markdown",
   "id": "543d6fad",
   "metadata": {},
   "source": [
    "## Now this data is ready for Analysis"
   ]
  },
  {
   "cell_type": "code",
   "execution_count": null,
   "id": "ac51142a",
   "metadata": {},
   "outputs": [],
   "source": []
  },
  {
   "cell_type": "code",
   "execution_count": 21,
   "id": "6c7dbe38",
   "metadata": {
    "ExecuteTime": {
     "end_time": "2022-12-11T08:58:32.017421Z",
     "start_time": "2022-12-11T08:58:32.002423Z"
    }
   },
   "outputs": [],
   "source": [
    "#I want to number each plot so I will write function to return each plot number \n",
    "con = 0\n",
    "def get_figure_no():\n",
    "    global con\n",
    "    con += 1\n",
    "    return con"
   ]
  },
  {
   "cell_type": "markdown",
   "id": "4547772e",
   "metadata": {},
   "source": [
    "<a id='eda'></a>\n",
    "## Exploratory Data Analysis"
   ]
  },
  {
   "cell_type": "code",
   "execution_count": 22,
   "id": "8c40b34f",
   "metadata": {
    "ExecuteTime": {
     "end_time": "2022-12-11T08:58:32.439756Z",
     "start_time": "2022-12-11T08:58:32.019423Z"
    }
   },
   "outputs": [
    {
     "data": {
      "text/plain": [
       "Text(0.5, 1.0, 'CORRELATION MATRIX')"
      ]
     },
     "execution_count": 22,
     "metadata": {},
     "output_type": "execute_result"
    },
    {
     "data": {
      "image/png": "[encoded data removed]",
      "text/plain": [
       "<Figure size 1500x1200 with 2 Axes>"
      ]
     },
     "metadata": {},
     "output_type": "display_data"
    }
   ],
   "source": [
    "plt.figure(figsize=(15,12))\n",
    "ax = sns.heatmap(New_df.corr(), annot=True)\n",
    "ax.set_title('CORRELATION MATRIX', fontsize=14)"
   ]
  },
  {
   "cell_type": "code",
   "execution_count": null,
   "id": "2f592750",
   "metadata": {},
   "outputs": [],
   "source": []
  },
  {
   "cell_type": "markdown",
   "id": "e42f37f0",
   "metadata": {},
   "source": [
    "### Question 1 : Which genre gets highest popularity in average?"
   ]
  },
  {
   "cell_type": "code",
   "execution_count": null,
   "id": "29c84157",
   "metadata": {},
   "outputs": [],
   "source": []
  },
  {
   "cell_type": "code",
   "execution_count": 23,
   "id": "c7625233",
   "metadata": {
    "ExecuteTime": {
     "end_time": "2022-12-11T08:58:32.455260Z",
     "start_time": "2022-12-11T08:58:32.441754Z"
    }
   },
   "outputs": [],
   "source": [
    "ge_popu = New_df.groupby('genres')['popularity'].mean() # clalculate average of popularity for each genre"
   ]
  },
  {
   "cell_type": "code",
   "execution_count": 24,
   "id": "9d8932a8",
   "metadata": {
    "ExecuteTime": {
     "end_time": "2022-12-11T08:58:32.470757Z",
     "start_time": "2022-12-11T08:58:32.457763Z"
    }
   },
   "outputs": [
    {
     "data": {
      "text/plain": [
       "genres\n",
       "Action             2.482394\n",
       "Adventure          3.017460\n",
       "Animation          2.068166\n",
       "Comedy             1.385712\n",
       "Crime              1.563969\n",
       "Documentary        0.363880\n",
       "Drama              1.414404\n",
       "Family             2.012103\n",
       "Fantasy            2.600988\n",
       "Foreign            0.216503\n",
       "History            1.273964\n",
       "Horror             1.168778\n",
       "Music              1.309767\n",
       "Mystery            1.827205\n",
       "Romance            1.280101\n",
       "Science Fiction    3.067299\n",
       "Thriller           1.953044\n",
       "War                1.813071\n",
       "Western            2.510376\n",
       "Name: popularity, dtype: float64"
      ]
     },
     "execution_count": 24,
     "metadata": {},
     "output_type": "execute_result"
    }
   ],
   "source": [
    "ge_popu"
   ]
  },
  {
   "cell_type": "code",
   "execution_count": 25,
   "id": "fa396f51",
   "metadata": {
    "ExecuteTime": {
     "end_time": "2022-12-11T08:58:32.485758Z",
     "start_time": "2022-12-11T08:58:32.471758Z"
    },
    "scrolled": true
   },
   "outputs": [
    {
     "data": {
      "text/plain": [
       "'Science Fiction'"
      ]
     },
     "execution_count": 25,
     "metadata": {},
     "output_type": "execute_result"
    }
   ],
   "source": [
    "ge_popu.index[ge_popu.values.argmax()] # geting genre with highest popularity"
   ]
  },
  {
   "cell_type": "markdown",
   "id": "59319f4a",
   "metadata": {},
   "source": [
    "### To confirm this answer"
   ]
  },
  {
   "cell_type": "code",
   "execution_count": 26,
   "id": "6eb12309",
   "metadata": {
    "ExecuteTime": {
     "end_time": "2022-12-11T08:58:32.737998Z",
     "start_time": "2022-12-11T08:58:32.487785Z"
    }
   },
   "outputs": [
    {
     "data": {
      "text/plain": [
       "Text(0, 0.5, 'Popularity in Average')"
      ]
     },
     "execution_count": 26,
     "metadata": {},
     "output_type": "execute_result"
    },
    {
     "data": {
      "image/png": "[encoded data removed]",
      "text/plain": [
       "<Figure size 2500x1500 with 1 Axes>"
      ]
     },
     "metadata": {},
     "output_type": "display_data"
    }
   ],
   "source": [
    "# representing value of popularity for each genre in bar chart \n",
    "plt.subplots(figsize=(25, 15))\n",
    "plt.bar(ge_popu.index, ge_popu) # ge_popu.index represents genres while ge_popu represents value of popularity\n",
    "plt.title('Most Popular genres in average \\n Figure[{}]'.format(get_figure_no()))\n",
    "plt.xlabel('Genres Type')\n",
    "plt.ylabel('Popularity in Average')"
   ]
  },
  {
   "cell_type": "markdown",
   "id": "47ef93f8",
   "metadata": {},
   "source": [
    "### The previous bar chart in figure [1] represents genres with popularity \n",
    "## 'science fiction' is the most popular genre"
   ]
  },
  {
   "cell_type": "markdown",
   "id": "9e85f68b",
   "metadata": {},
   "source": [
    "###  Question 2 : Which genre gets highest revenue ?"
   ]
  },
  {
   "cell_type": "code",
   "execution_count": 27,
   "id": "66782c6b",
   "metadata": {
    "ExecuteTime": {
     "end_time": "2022-12-11T08:58:32.753096Z",
     "start_time": "2022-12-11T08:58:32.739988Z"
    }
   },
   "outputs": [],
   "source": [
    "genres_with_revenue = New_df.groupby(['genres']).sum().reset_index() #summing revenue of each genre"
   ]
  },
  {
   "cell_type": "code",
   "execution_count": 28,
   "id": "718fda7b",
   "metadata": {
    "ExecuteTime": {
     "end_time": "2022-12-11T08:58:32.800172Z",
     "start_time": "2022-12-11T08:58:32.755140Z"
    }
   },
   "outputs": [
    {
     "data": {
      "text/html": [
       "<div>\n",
       "<style scoped>\n",
       "    .dataframe tbody tr th:only-of-type {\n",
       "        vertical-align: middle;\n",
       "    }\n",
       "\n",
       "    .dataframe tbody tr th {\n",
       "        vertical-align: top;\n",
       "    }\n",
       "\n",
       "    .dataframe thead th {\n",
       "        text-align: right;\n",
       "    }\n",
       "</style>\n",
       "<table border=\"1\" class=\"dataframe\">\n",
       "  <thead>\n",
       "    <tr style=\"text-align: right;\">\n",
       "      <th></th>\n",
       "      <th>genres</th>\n",
       "      <th>id</th>\n",
       "      <th>popularity</th>\n",
       "      <th>budget</th>\n",
       "      <th>revenue</th>\n",
       "      <th>runtime</th>\n",
       "      <th>vote_count</th>\n",
       "      <th>vote_average</th>\n",
       "      <th>release_year</th>\n",
       "      <th>budget_adj</th>\n",
       "      <th>revenue_adj</th>\n",
       "    </tr>\n",
       "  </thead>\n",
       "  <tbody>\n",
       "    <tr>\n",
       "      <th>0</th>\n",
       "      <td>Action</td>\n",
       "      <td>19286180</td>\n",
       "      <td>1030.193551</td>\n",
       "      <td>32328042656</td>\n",
       "      <td>106422933662</td>\n",
       "      <td>47390</td>\n",
       "      <td>599847</td>\n",
       "      <td>2571.1</td>\n",
       "      <td>832499</td>\n",
       "      <td>3.399547e+10</td>\n",
       "      <td>1.218697e+11</td>\n",
       "    </tr>\n",
       "    <tr>\n",
       "      <th>1</th>\n",
       "      <td>Adventure</td>\n",
       "      <td>13726905</td>\n",
       "      <td>896.185658</td>\n",
       "      <td>29697950034</td>\n",
       "      <td>111323378605</td>\n",
       "      <td>34524</td>\n",
       "      <td>515147</td>\n",
       "      <td>1884.8</td>\n",
       "      <td>595555</td>\n",
       "      <td>3.112044e+10</td>\n",
       "      <td>1.291628e+11</td>\n",
       "    </tr>\n",
       "    <tr>\n",
       "      <th>2</th>\n",
       "      <td>Animation</td>\n",
       "      <td>5177109</td>\n",
       "      <td>223.361976</td>\n",
       "      <td>10262600000</td>\n",
       "      <td>37615472747</td>\n",
       "      <td>9987</td>\n",
       "      <td>136342</td>\n",
       "      <td>693.1</td>\n",
       "      <td>216868</td>\n",
       "      <td>1.056230e+10</td>\n",
       "      <td>3.938591e+10</td>\n",
       "    </tr>\n",
       "    <tr>\n",
       "      <th>3</th>\n",
       "      <td>Comedy</td>\n",
       "      <td>20278851</td>\n",
       "      <td>573.684939</td>\n",
       "      <td>18893693619</td>\n",
       "      <td>60892842731</td>\n",
       "      <td>42419</td>\n",
       "      <td>285270</td>\n",
       "      <td>2531.1</td>\n",
       "      <td>831109</td>\n",
       "      <td>1.974328e+10</td>\n",
       "      <td>6.553855e+10</td>\n",
       "    </tr>\n",
       "    <tr>\n",
       "      <th>4</th>\n",
       "      <td>Crime</td>\n",
       "      <td>10551188</td>\n",
       "      <td>301.845987</td>\n",
       "      <td>8348143247</td>\n",
       "      <td>22937943439</td>\n",
       "      <td>22084</td>\n",
       "      <td>167699</td>\n",
       "      <td>1228.8</td>\n",
       "      <td>387460</td>\n",
       "      <td>8.638194e+09</td>\n",
       "      <td>2.477058e+10</td>\n",
       "    </tr>\n",
       "    <tr>\n",
       "      <th>5</th>\n",
       "      <td>Documentary</td>\n",
       "      <td>544711</td>\n",
       "      <td>5.458199</td>\n",
       "      <td>93393148</td>\n",
       "      <td>390488027</td>\n",
       "      <td>1496</td>\n",
       "      <td>1204</td>\n",
       "      <td>99.3</td>\n",
       "      <td>30127</td>\n",
       "      <td>9.679849e+07</td>\n",
       "      <td>4.058910e+08</td>\n",
       "    </tr>\n",
       "    <tr>\n",
       "      <th>6</th>\n",
       "      <td>Drama</td>\n",
       "      <td>30298594</td>\n",
       "      <td>756.705925</td>\n",
       "      <td>18247415572</td>\n",
       "      <td>55599344696</td>\n",
       "      <td>61848</td>\n",
       "      <td>378163</td>\n",
       "      <td>3480.1</td>\n",
       "      <td>1074092</td>\n",
       "      <td>1.933823e+10</td>\n",
       "      <td>6.235144e+10</td>\n",
       "    </tr>\n",
       "    <tr>\n",
       "      <th>7</th>\n",
       "      <td>Family</td>\n",
       "      <td>6545642</td>\n",
       "      <td>327.972866</td>\n",
       "      <td>14659000000</td>\n",
       "      <td>52978880235</td>\n",
       "      <td>16134</td>\n",
       "      <td>193035</td>\n",
       "      <td>1022.0</td>\n",
       "      <td>327080</td>\n",
       "      <td>1.528508e+10</td>\n",
       "      <td>5.787264e+10</td>\n",
       "    </tr>\n",
       "    <tr>\n",
       "      <th>8</th>\n",
       "      <td>Fantasy</td>\n",
       "      <td>6409160</td>\n",
       "      <td>400.552196</td>\n",
       "      <td>16037550003</td>\n",
       "      <td>58443962906</td>\n",
       "      <td>17531</td>\n",
       "      <td>248406</td>\n",
       "      <td>962.5</td>\n",
       "      <td>309126</td>\n",
       "      <td>1.651988e+10</td>\n",
       "      <td>6.223513e+10</td>\n",
       "    </tr>\n",
       "    <tr>\n",
       "      <th>9</th>\n",
       "      <td>Foreign</td>\n",
       "      <td>46689</td>\n",
       "      <td>0.216503</td>\n",
       "      <td>1500000</td>\n",
       "      <td>187716</td>\n",
       "      <td>90</td>\n",
       "      <td>23</td>\n",
       "      <td>7.8</td>\n",
       "      <td>2010</td>\n",
       "      <td>1.500000e+06</td>\n",
       "      <td>1.877160e+05</td>\n",
       "    </tr>\n",
       "    <tr>\n",
       "      <th>10</th>\n",
       "      <td>History</td>\n",
       "      <td>1680567</td>\n",
       "      <td>44.588728</td>\n",
       "      <td>1563600000</td>\n",
       "      <td>3637832757</td>\n",
       "      <td>4538</td>\n",
       "      <td>21289</td>\n",
       "      <td>231.5</td>\n",
       "      <td>70274</td>\n",
       "      <td>1.670304e+09</td>\n",
       "      <td>3.958377e+09</td>\n",
       "    </tr>\n",
       "    <tr>\n",
       "      <th>11</th>\n",
       "      <td>Horror</td>\n",
       "      <td>8246418</td>\n",
       "      <td>162.460124</td>\n",
       "      <td>3454890000</td>\n",
       "      <td>12420116688</td>\n",
       "      <td>13752</td>\n",
       "      <td>73123</td>\n",
       "      <td>798.6</td>\n",
       "      <td>278905</td>\n",
       "      <td>3.732279e+09</td>\n",
       "      <td>1.691168e+10</td>\n",
       "    </tr>\n",
       "    <tr>\n",
       "      <th>12</th>\n",
       "      <td>Music</td>\n",
       "      <td>2539909</td>\n",
       "      <td>49.771164</td>\n",
       "      <td>1387660000</td>\n",
       "      <td>4490026238</td>\n",
       "      <td>4044</td>\n",
       "      <td>18697</td>\n",
       "      <td>242.0</td>\n",
       "      <td>76222</td>\n",
       "      <td>1.465865e+09</td>\n",
       "      <td>5.346944e+09</td>\n",
       "    </tr>\n",
       "    <tr>\n",
       "      <th>13</th>\n",
       "      <td>Mystery</td>\n",
       "      <td>4992561</td>\n",
       "      <td>179.066118</td>\n",
       "      <td>4533804650</td>\n",
       "      <td>13931037576</td>\n",
       "      <td>11125</td>\n",
       "      <td>97231</td>\n",
       "      <td>617.7</td>\n",
       "      <td>196747</td>\n",
       "      <td>4.754851e+09</td>\n",
       "      <td>1.480942e+10</td>\n",
       "    </tr>\n",
       "    <tr>\n",
       "      <th>14</th>\n",
       "      <td>Romance</td>\n",
       "      <td>8380065</td>\n",
       "      <td>250.899788</td>\n",
       "      <td>6436552689</td>\n",
       "      <td>22914575680</td>\n",
       "      <td>21560</td>\n",
       "      <td>107822</td>\n",
       "      <td>1241.2</td>\n",
       "      <td>393455</td>\n",
       "      <td>6.843268e+09</td>\n",
       "      <td>2.505428e+10</td>\n",
       "    </tr>\n",
       "    <tr>\n",
       "      <th>15</th>\n",
       "      <td>Science Fiction</td>\n",
       "      <td>11013938</td>\n",
       "      <td>641.065470</td>\n",
       "      <td>15993534535</td>\n",
       "      <td>57508159442</td>\n",
       "      <td>23412</td>\n",
       "      <td>362267</td>\n",
       "      <td>1311.4</td>\n",
       "      <td>419215</td>\n",
       "      <td>1.669847e+10</td>\n",
       "      <td>6.575687e+10</td>\n",
       "    </tr>\n",
       "    <tr>\n",
       "      <th>16</th>\n",
       "      <td>Thriller</td>\n",
       "      <td>21692777</td>\n",
       "      <td>779.264702</td>\n",
       "      <td>18674373961</td>\n",
       "      <td>57733891122</td>\n",
       "      <td>44224</td>\n",
       "      <td>372998</td>\n",
       "      <td>2455.4</td>\n",
       "      <td>800447</td>\n",
       "      <td>2.015735e+10</td>\n",
       "      <td>7.106131e+10</td>\n",
       "    </tr>\n",
       "    <tr>\n",
       "      <th>17</th>\n",
       "      <td>War</td>\n",
       "      <td>2319302</td>\n",
       "      <td>58.018281</td>\n",
       "      <td>1427300000</td>\n",
       "      <td>4598485534</td>\n",
       "      <td>3974</td>\n",
       "      <td>31943</td>\n",
       "      <td>214.5</td>\n",
       "      <td>64254</td>\n",
       "      <td>1.525011e+09</td>\n",
       "      <td>4.867167e+09</td>\n",
       "    </tr>\n",
       "    <tr>\n",
       "      <th>18</th>\n",
       "      <td>Western</td>\n",
       "      <td>912238</td>\n",
       "      <td>32.634888</td>\n",
       "      <td>1612000000</td>\n",
       "      <td>2228898731</td>\n",
       "      <td>1640</td>\n",
       "      <td>21482</td>\n",
       "      <td>83.3</td>\n",
       "      <td>26130</td>\n",
       "      <td>1.597347e+09</td>\n",
       "      <td>2.170875e+09</td>\n",
       "    </tr>\n",
       "  </tbody>\n",
       "</table>\n",
       "</div>"
      ],
      "text/plain": [
       "             genres        id   popularity       budget       revenue  \\\n",
       "0            Action  19286180  1030.193551  32328042656  106422933662   \n",
       "1         Adventure  13726905   896.185658  29697950034  111323378605   \n",
       "2         Animation   5177109   223.361976  10262600000   37615472747   \n",
       "3            Comedy  20278851   573.684939  18893693619   60892842731   \n",
       "4             Crime  10551188   301.845987   8348143247   22937943439   \n",
       "5       Documentary    544711     5.458199     93393148     390488027   \n",
       "6             Drama  30298594   756.705925  18247415572   55599344696   \n",
       "7            Family   6545642   327.972866  14659000000   52978880235   \n",
       "8           Fantasy   6409160   400.552196  16037550003   58443962906   \n",
       "9           Foreign     46689     0.216503      1500000        187716   \n",
       "10          History   1680567    44.588728   1563600000    3637832757   \n",
       "11           Horror   8246418   162.460124   3454890000   12420116688   \n",
       "12            Music   2539909    49.771164   1387660000    4490026238   \n",
       "13          Mystery   4992561   179.066118   4533804650   13931037576   \n",
       "14          Romance   8380065   250.899788   6436552689   22914575680   \n",
       "15  Science Fiction  11013938   641.065470  15993534535   57508159442   \n",
       "16         Thriller  21692777   779.264702  18674373961   57733891122   \n",
       "17              War   2319302    58.018281   1427300000    4598485534   \n",
       "18          Western    912238    32.634888   1612000000    2228898731   \n",
       "\n",
       "    runtime  vote_count  vote_average  release_year    budget_adj  \\\n",
       "0     47390      599847        2571.1        832499  3.399547e+10   \n",
       "1     34524      515147        1884.8        595555  3.112044e+10   \n",
       "2      9987      136342         693.1        216868  1.056230e+10   \n",
       "3     42419      285270        2531.1        831109  1.974328e+10   \n",
       "4     22084      167699        1228.8        387460  8.638194e+09   \n",
       "5      1496        1204          99.3         30127  9.679849e+07   \n",
       "6     61848      378163        3480.1       1074092  1.933823e+10   \n",
       "7     16134      193035        1022.0        327080  1.528508e+10   \n",
       "8     17531      248406         962.5        309126  1.651988e+10   \n",
       "9        90          23           7.8          2010  1.500000e+06   \n",
       "10     4538       21289         231.5         70274  1.670304e+09   \n",
       "11    13752       73123         798.6        278905  3.732279e+09   \n",
       "12     4044       18697         242.0         76222  1.465865e+09   \n",
       "13    11125       97231         617.7        196747  4.754851e+09   \n",
       "14    21560      107822        1241.2        393455  6.843268e+09   \n",
       "15    23412      362267        1311.4        419215  1.669847e+10   \n",
       "16    44224      372998        2455.4        800447  2.015735e+10   \n",
       "17     3974       31943         214.5         64254  1.525011e+09   \n",
       "18     1640       21482          83.3         26130  1.597347e+09   \n",
       "\n",
       "     revenue_adj  \n",
       "0   1.218697e+11  \n",
       "1   1.291628e+11  \n",
       "2   3.938591e+10  \n",
       "3   6.553855e+10  \n",
       "4   2.477058e+10  \n",
       "5   4.058910e+08  \n",
       "6   6.235144e+10  \n",
       "7   5.787264e+10  \n",
       "8   6.223513e+10  \n",
       "9   1.877160e+05  \n",
       "10  3.958377e+09  \n",
       "11  1.691168e+10  \n",
       "12  5.346944e+09  \n",
       "13  1.480942e+10  \n",
       "14  2.505428e+10  \n",
       "15  6.575687e+10  \n",
       "16  7.106131e+10  \n",
       "17  4.867167e+09  \n",
       "18  2.170875e+09  "
      ]
     },
     "execution_count": 28,
     "metadata": {},
     "output_type": "execute_result"
    }
   ],
   "source": [
    "genres_with_revenue"
   ]
  },
  {
   "cell_type": "code",
   "execution_count": 29,
   "id": "258da242",
   "metadata": {
    "ExecuteTime": {
     "end_time": "2022-12-11T08:58:32.816164Z",
     "start_time": "2022-12-11T08:58:32.801170Z"
    }
   },
   "outputs": [
    {
     "data": {
      "text/plain": [
       "111323378605"
      ]
     },
     "execution_count": 29,
     "metadata": {},
     "output_type": "execute_result"
    }
   ],
   "source": [
    "genres_with_revenue['revenue'].max()"
   ]
  },
  {
   "cell_type": "code",
   "execution_count": 30,
   "id": "431339f0",
   "metadata": {
    "ExecuteTime": {
     "end_time": "2022-12-11T08:58:32.832162Z",
     "start_time": "2022-12-11T08:58:32.818165Z"
    }
   },
   "outputs": [
    {
     "data": {
      "text/html": [
       "<div>\n",
       "<style scoped>\n",
       "    .dataframe tbody tr th:only-of-type {\n",
       "        vertical-align: middle;\n",
       "    }\n",
       "\n",
       "    .dataframe tbody tr th {\n",
       "        vertical-align: top;\n",
       "    }\n",
       "\n",
       "    .dataframe thead th {\n",
       "        text-align: right;\n",
       "    }\n",
       "</style>\n",
       "<table border=\"1\" class=\"dataframe\">\n",
       "  <thead>\n",
       "    <tr style=\"text-align: right;\">\n",
       "      <th></th>\n",
       "      <th>genres</th>\n",
       "      <th>id</th>\n",
       "      <th>popularity</th>\n",
       "      <th>budget</th>\n",
       "      <th>revenue</th>\n",
       "      <th>runtime</th>\n",
       "      <th>vote_count</th>\n",
       "      <th>vote_average</th>\n",
       "      <th>release_year</th>\n",
       "      <th>budget_adj</th>\n",
       "      <th>revenue_adj</th>\n",
       "    </tr>\n",
       "  </thead>\n",
       "  <tbody>\n",
       "    <tr>\n",
       "      <th>1</th>\n",
       "      <td>Adventure</td>\n",
       "      <td>13726905</td>\n",
       "      <td>896.185658</td>\n",
       "      <td>29697950034</td>\n",
       "      <td>111323378605</td>\n",
       "      <td>34524</td>\n",
       "      <td>515147</td>\n",
       "      <td>1884.8</td>\n",
       "      <td>595555</td>\n",
       "      <td>3.112044e+10</td>\n",
       "      <td>1.291628e+11</td>\n",
       "    </tr>\n",
       "  </tbody>\n",
       "</table>\n",
       "</div>"
      ],
      "text/plain": [
       "      genres        id  popularity       budget       revenue  runtime  \\\n",
       "1  Adventure  13726905  896.185658  29697950034  111323378605    34524   \n",
       "\n",
       "   vote_count  vote_average  release_year    budget_adj   revenue_adj  \n",
       "1      515147        1884.8        595555  3.112044e+10  1.291628e+11  "
      ]
     },
     "execution_count": 30,
     "metadata": {},
     "output_type": "execute_result"
    }
   ],
   "source": [
    "genres_with_revenue[genres_with_revenue['revenue'] == 111323378605]"
   ]
  },
  {
   "cell_type": "markdown",
   "id": "6796e636",
   "metadata": {},
   "source": [
    "### To confirm this answer"
   ]
  },
  {
   "cell_type": "code",
   "execution_count": 43,
   "id": "743c99f8",
   "metadata": {
    "ExecuteTime": {
     "end_time": "2022-12-11T09:00:06.127706Z",
     "start_time": "2022-12-11T09:00:05.954718Z"
    }
   },
   "outputs": [
    {
     "data": {
      "text/plain": [
       "Text(0, 0.5, 'revenue')"
      ]
     },
     "execution_count": 43,
     "metadata": {},
     "output_type": "execute_result"
    },
    {
     "data": {
      "image/png": "[encoded data removed]",
      "text/plain": [
       "<Figure size 640x480 with 1 Axes>"
      ]
     },
     "metadata": {},
     "output_type": "display_data"
    }
   ],
   "source": [
    "# drawing bar chart to represent each genre revenue\n",
    "ax = genres_with_revenue.plot(title='The most revenue according to genres Figure[{}]'.format(get_figure_no()), kind='bar', x='genres', y='revenue')\n",
    "ax.set_xlabel('genres')\n",
    "ax.set_ylabel('revenue')"
   ]
  },
  {
   "cell_type": "markdown",
   "id": "b85423aa",
   "metadata": {},
   "source": [
    "### The previous plot in figure [2] represents genres with revenue\n",
    "## 'Adventure' gets the highest revenue"
   ]
  },
  {
   "cell_type": "markdown",
   "id": "ec06bf00",
   "metadata": {},
   "source": [
    "### Question 3: Which genre gets highest revenue in average?"
   ]
  },
  {
   "cell_type": "code",
   "execution_count": 32,
   "id": "74f1789e",
   "metadata": {
    "ExecuteTime": {
     "end_time": "2022-12-11T08:58:33.051311Z",
     "start_time": "2022-12-11T08:58:33.038127Z"
    }
   },
   "outputs": [],
   "source": [
    "rev_ge = New_df.groupby(['genres']).mean()['revenue'] # calculating each genre revenue in average "
   ]
  },
  {
   "cell_type": "code",
   "execution_count": 33,
   "id": "c6846ccc",
   "metadata": {
    "ExecuteTime": {
     "end_time": "2022-12-11T08:58:33.066783Z",
     "start_time": "2022-12-11T08:58:33.053787Z"
    }
   },
   "outputs": [
    {
     "data": {
      "text/plain": [
       "genres\n",
       "Action             2.564408e+08\n",
       "Adventure          3.748262e+08\n",
       "Animation          3.482914e+08\n",
       "Comedy             1.470842e+08\n",
       "Crime              1.188494e+08\n",
       "Documentary        2.603254e+07\n",
       "Drama              1.039240e+08\n",
       "Family             3.250238e+08\n",
       "Fantasy            3.795063e+08\n",
       "Foreign            1.877160e+05\n",
       "History            1.039381e+08\n",
       "Horror             8.935336e+07\n",
       "Music              1.181586e+08\n",
       "Mystery            1.421534e+08\n",
       "Romance            1.169111e+08\n",
       "Science Fiction    2.751587e+08\n",
       "Thriller           1.446965e+08\n",
       "War                1.437027e+08\n",
       "Western            1.714537e+08\n",
       "Name: revenue, dtype: float64"
      ]
     },
     "execution_count": 33,
     "metadata": {},
     "output_type": "execute_result"
    }
   ],
   "source": [
    "rev_ge"
   ]
  },
  {
   "cell_type": "code",
   "execution_count": 34,
   "id": "a138dd7f",
   "metadata": {
    "ExecuteTime": {
     "end_time": "2022-12-11T08:58:33.082789Z",
     "start_time": "2022-12-11T08:58:33.067784Z"
    }
   },
   "outputs": [
    {
     "data": {
      "text/plain": [
       "'Fantasy'"
      ]
     },
     "execution_count": 34,
     "metadata": {},
     "output_type": "execute_result"
    }
   ],
   "source": [
    "New_df.groupby(['genres']).mean()['revenue'].idxmax()"
   ]
  },
  {
   "cell_type": "markdown",
   "id": "fe1b0c6a",
   "metadata": {},
   "source": [
    "### To confirm this answer"
   ]
  },
  {
   "cell_type": "code",
   "execution_count": 45,
   "id": "554c4881",
   "metadata": {
    "ExecuteTime": {
     "end_time": "2022-12-11T09:00:59.576681Z",
     "start_time": "2022-12-11T09:00:59.220681Z"
    }
   },
   "outputs": [
    {
     "data": {
      "text/plain": [
       "Text(0, 0.5, 'Increase in Average Of Revenue')"
      ]
     },
     "execution_count": 45,
     "metadata": {},
     "output_type": "execute_result"
    },
    {
     "data": {
      "image/png": "[encoded data removed]",
      "text/plain": [
       "<Figure size 2500x1000 with 1 Axes>"
      ]
     },
     "metadata": {},
     "output_type": "display_data"
    }
   ],
   "source": [
    "# represent each genre revenue in a bar chart\n",
    "plt.subplots(figsize=(25, 10))\n",
    "plt.bar(rev_ge.index,rev_ge)\n",
    "plt.title('Genres With revenue Figure[{}]'.format(get_figure_no()))\n",
    "plt.xlabel('Genres Type')\n",
    "plt.ylabel('Increase in Average Of Revenue')"
   ]
  },
  {
   "cell_type": "markdown",
   "id": "c070ac37",
   "metadata": {},
   "source": [
    "### The previous plot in figure [3] represents genres with average ofrevenue\n",
    "## 'Fantasy' gets the highest revenue in average"
   ]
  },
  {
   "cell_type": "markdown",
   "id": "7ea6bd16",
   "metadata": {},
   "source": [
    "### Question 4: Who is the most director directed films?"
   ]
  },
  {
   "cell_type": "code",
   "execution_count": 36,
   "id": "9efb25a6",
   "metadata": {
    "ExecuteTime": {
     "end_time": "2022-12-11T08:58:33.316884Z",
     "start_time": "2022-12-11T08:58:33.301864Z"
    }
   },
   "outputs": [],
   "source": [
    "dire = New_df['director'].value_counts()"
   ]
  },
  {
   "cell_type": "code",
   "execution_count": 37,
   "id": "88b64e9b",
   "metadata": {
    "ExecuteTime": {
     "end_time": "2022-12-11T08:58:33.332724Z",
     "start_time": "2022-12-11T08:58:33.318715Z"
    }
   },
   "outputs": [
    {
     "data": {
      "text/plain": [
       "John Carpenter         37\n",
       "Steven Spielberg       29\n",
       "Robert Zemeckis        28\n",
       "Steven Soderbergh      25\n",
       "Ridley Scott           24\n",
       "                       ..\n",
       "John R. Leonetti        1\n",
       "Juan Antonio Bayona     1\n",
       "Curtis Hanson           1\n",
       "Rodrigo GarcÃ­a         1\n",
       "John Landis             1\n",
       "Name: director, Length: 789, dtype: int64"
      ]
     },
     "execution_count": 37,
     "metadata": {},
     "output_type": "execute_result"
    }
   ],
   "source": [
    "dire"
   ]
  },
  {
   "cell_type": "code",
   "execution_count": 38,
   "id": "24238dc8",
   "metadata": {
    "ExecuteTime": {
     "end_time": "2022-12-11T08:58:33.348136Z",
     "start_time": "2022-12-11T08:58:33.333715Z"
    }
   },
   "outputs": [
    {
     "data": {
      "text/plain": [
       "'John Carpenter'"
      ]
     },
     "execution_count": 38,
     "metadata": {},
     "output_type": "execute_result"
    }
   ],
   "source": [
    "dire.idxmax()"
   ]
  },
  {
   "cell_type": "markdown",
   "id": "3e6760f9",
   "metadata": {},
   "source": [
    "## 'John Carpenter' is the director who directed the most films"
   ]
  },
  {
   "cell_type": "markdown",
   "id": "da9e9580",
   "metadata": {},
   "source": [
    "### Question 5 : What year did the largest number of films released?"
   ]
  },
  {
   "cell_type": "code",
   "execution_count": 39,
   "id": "08cf3725",
   "metadata": {
    "ExecuteTime": {
     "end_time": "2022-12-11T08:58:33.363471Z",
     "start_time": "2022-12-11T08:58:33.353645Z"
    }
   },
   "outputs": [],
   "source": [
    "re = New_df['release_year'].value_counts()   #  get number of all values in column 'release_year'"
   ]
  },
  {
   "cell_type": "code",
   "execution_count": 40,
   "id": "d8d6858a",
   "metadata": {
    "ExecuteTime": {
     "end_time": "2022-12-11T08:58:33.378479Z",
     "start_time": "2022-12-11T08:58:33.364470Z"
    }
   },
   "outputs": [
    {
     "data": {
      "text/plain": [
       "2011    398\n",
       "2010    348\n",
       "2009    310\n",
       "2015    252\n",
       "2007    247\n",
       "2012    238\n",
       "2008    213\n",
       "2013    184\n",
       "2006    184\n",
       "2014    182\n",
       "2005    136\n",
       "2004    120\n",
       "2003     73\n",
       "2002     69\n",
       "1999     53\n",
       "2001     50\n",
       "1996     44\n",
       "2000     35\n",
       "1995     25\n",
       "1998     23\n",
       "1997     22\n",
       "1993     19\n",
       "1992     18\n",
       "1983     16\n",
       "1981     16\n",
       "1984     15\n",
       "1990     14\n",
       "1989     13\n",
       "1979     12\n",
       "1971     12\n",
       "1994     11\n",
       "1982     11\n",
       "1975     10\n",
       "1987      9\n",
       "1988      8\n",
       "1991      7\n",
       "1985      7\n",
       "1977      6\n",
       "1973      6\n",
       "1964      5\n",
       "1980      4\n",
       "1986      4\n",
       "1969      3\n",
       "1965      3\n",
       "1963      3\n",
       "1978      3\n",
       "1967      3\n",
       "1962      3\n",
       "1974      3\n",
       "1961      2\n",
       "1972      2\n",
       "Name: release_year, dtype: int64"
      ]
     },
     "execution_count": 40,
     "metadata": {},
     "output_type": "execute_result"
    }
   ],
   "source": [
    "re"
   ]
  },
  {
   "cell_type": "code",
   "execution_count": 41,
   "id": "366841b0",
   "metadata": {
    "ExecuteTime": {
     "end_time": "2022-12-11T08:58:33.394487Z",
     "start_time": "2022-12-11T08:58:33.379470Z"
    }
   },
   "outputs": [
    {
     "data": {
      "text/plain": [
       "2011"
      ]
     },
     "execution_count": 41,
     "metadata": {},
     "output_type": "execute_result"
    }
   ],
   "source": [
    "New_df['release_year'].value_counts().idxmax() # geting the largest year which has the largest number of movies "
   ]
  },
  {
   "cell_type": "markdown",
   "id": "edd0af37",
   "metadata": {},
   "source": [
    "### To confirm this answer"
   ]
  },
  {
   "cell_type": "code",
   "execution_count": 47,
   "id": "7e5d10f6",
   "metadata": {
    "ExecuteTime": {
     "end_time": "2022-12-11T09:01:26.553064Z",
     "start_time": "2022-12-11T09:01:26.360634Z"
    }
   },
   "outputs": [
    {
     "data": {
      "text/plain": [
       "Text(0, 0.5, 'Number of films')"
      ]
     },
     "execution_count": 47,
     "metadata": {},
     "output_type": "execute_result"
    },
    {
     "data": {
      "image/png": "[encoded data removed]",
      "text/plain": [
       "<Figure size 1200x600 with 1 Axes>"
      ]
     },
     "metadata": {},
     "output_type": "display_data"
    }
   ],
   "source": [
    "# representing Years with the largest number of films take place\n",
    "plt.subplots(figsize=(12, 6))\n",
    "plt.bar(re.index, re)\n",
    "plt.title('Years with the largest number of films Figure[{}]'.format(get_figure_no()))\n",
    "plt.xlabel('Years')\n",
    "plt.ylabel('Number of films')"
   ]
  },
  {
   "cell_type": "markdown",
   "id": "f7b36018",
   "metadata": {},
   "source": [
    "### The previous plot in figure [4] represents years with the largest number of films\n",
    "## '2011' have largest number of films released"
   ]
  },
  {
   "cell_type": "markdown",
   "id": "2d41530d",
   "metadata": {},
   "source": [
    "<a id='conclusions'></a>\n",
    "## Conclusion\n",
    "\n",
    "#### 1- Genre gets highest popularity in average is 'Science Fiction'\n",
    "\n",
    "#### 2- Genre which gets highest revenue is 'Adventure'\n",
    "\n",
    "#### 3- Genre which gets highest revenue in average is 'Fantasy'\n",
    "\n",
    "#### 4- 'John Carpenter' is the director who directed the most films\n",
    "\n",
    "#### 5- '2011' have largest number of movie released"
   ]
  },
  {
   "cell_type": "markdown",
   "id": "a6c68b33",
   "metadata": {},
   "source": [
    "## limitations:\n",
    "1- I found null values in a dataset so I drop it to make analysis more accurate.\n",
    "<br>\n",
    "2- There are zero values in budget and revenue columns which does not make true so remove rows with revenue or budget equal zero.\n",
    "<br>\n",
    "3- I found that each movie have different genre types with \"|\" between them which make analysis more diffecult because I want to deal with each genre type sperately so I Edit genres values which countains \"|\" and separate each one in specific row.\n",
    "<br>"
   ]
  },
  {
   "cell_type": "markdown",
   "id": "07d5138c",
   "metadata": {},
   "source": [
    "<a id='references'></a>\n",
    "\n",
    "## References: \n",
    "[1] https://riptutorial.com/pandas/example/25462/split--reshape--csv-strings-in-columns-into-multiple-rows--having-one-element-per-row\n",
    "<br>\n",
    "[3] https://numpy.org/doc/stable/reference/generated/numpy.argmax.html"
   ]
  }
 ],
 "metadata": {
  "kernelspec": {
   "display_name": "Python 3 (ipykernel)",
   "language": "python",
   "name": "python3"
  },
  "language_info": {
   "codemirror_mode": {
    "name": "ipython",
    "version": 3
   },
   "file_extension": ".py",
   "mimetype": "text/x-python",
   "name": "python",
   "nbconvert_exporter": "python",
   "pygments_lexer": "ipython3",
   "version": "3.9.13"
  }
 },
 "nbformat": 4,
 "nbformat_minor": 5
}
